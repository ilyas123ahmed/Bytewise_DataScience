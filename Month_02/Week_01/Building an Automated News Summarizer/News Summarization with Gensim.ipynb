{
 "cells": [
  {
   "cell_type": "markdown",
   "id": "3d63a9da",
   "metadata": {},
   "source": [
    "## News Extraction"
   ]
  },
  {
   "cell_type": "markdown",
   "id": "44561b26",
   "metadata": {},
   "source": [
    "### Import Packages"
   ]
  },
  {
   "cell_type": "code",
   "execution_count": 1,
   "id": "838be0e9",
   "metadata": {},
   "outputs": [],
   "source": [
    "from bs4 import BeautifulSoup\n",
    "from requests import get"
   ]
  },
  {
   "cell_type": "markdown",
   "id": "45c17e6d",
   "metadata": {},
   "source": [
    "### creating a function to extract only text from  paragraph tag"
   ]
  },
  {
   "cell_type": "code",
   "execution_count": 2,
   "id": "4e2008bd",
   "metadata": {},
   "outputs": [],
   "source": [
    "def get_only_text(url):\n",
    " \"\"\" \n",
    "  return the title and the text of the article\n",
    "  at the specified url\n",
    " \"\"\"\n",
    " page = get(url)\n",
    " soup = BeautifulSoup(page.content, \"lxml\")\n",
    " text = ' '.join(map(lambda p: p.text, soup.find_all('p')))\n",
    " #text = soup.text\n",
    " title = ' '.join(soup.title.stripped_strings)\n",
    " return title , text    "
   ]
  },
  {
   "cell_type": "markdown",
   "id": "ccb7bb83",
   "metadata": {},
   "source": [
    "### Calling the function with the desired News URL"
   ]
  },
  {
   "cell_type": "code",
   "execution_count": 3,
   "id": "5d3a8e3e",
   "metadata": {},
   "outputs": [],
   "source": [
    "text = get_only_text(\"https://en.wikinews.org/wiki/Global_markets_plunge\")"
   ]
  },
  {
   "cell_type": "code",
   "execution_count": 4,
   "id": "99ff3abd",
   "metadata": {},
   "outputs": [
    {
     "data": {
      "text/plain": [
       "('Global markets plunge - Wikinews, the free news source',\n",
       " 'Friday, October 10, 2008\\xa0\\n Stock markets across the world have fallen sharply with several seeing the biggest drop in their history. \\n Asian markets saw the biggest sell-off. The Nikkei dropped 9.62% to reach a 20 year low. Japan also saw a collapse of a mid-size insurance company, Yamato Life Insurance Company, which declared bankruptcy.  The Hang Seng, which was one of the few markets that was positive yesterday, fell 7.19%. Australia dropped by 8.4% and South Korea saw a 9% fall. \\n In Europe, markets dropped at the open with the FTSE losing 11%. They have recovered only sightly with all European markets losing more than 5%. The European sell off was more about the Asian lows then any specific news. European banks and financial institutes saw the most selling. Also, oil related companies saw large drops as an result of an expected decrease in oil consumption. \\n\\n The U.S. markets opened lower with the Dow Jones Industrial Average falling below 8,000, before recovering slightly.  President George W. Bush made an address on the economy and said markets were being \"driven by uncertainty and fear.\"\\n Oil has seen losses of more than US$6 in trading with the current price of a barrel of oil less than $80. This is a year low for oil. News also came out that OPEC will hold an emergency meeting on November 18 to discuss the falling price of oil. \\n Charities, such as Cats Protection, today said that they have lost much of their funds in collapsing banks. Cats Protection had a total of £11.2 million saved in the now-collapsed Kaupthing bank.\\n The British National Council for Voluntary Organisations said that 60 of its 6,500 have lost money due to the collapse of banks.\\n The Dow Jones Industrial Average fell to its lowest level in five years at 8,579.19, falling 679 points in one day. This, at 7.3%, is the eleventh largest percentage fall in the history of the index. The growth then continued, with the index being up over 150 points on the start of the day at one point.\\n The index, did however, recover, and as of 19:30 UTC was up 17.68 points, or 0.21%, pushing the index up to almost 8600. \\n Peter Cardillo, chief market economist at Avalon Partners, commented on these massive falls. \"What we\\'ve seen here was one big margin call that just kept feeding on itself, so the opposite could happen. But you need a catalyst,\" he said. \"I\\'m more convinced now than ever that this market has made a bottom. The capitulation came when we breached 8,000,\" he continued. \"It doesn\\'t mean we can\\'t go back and revisit that level.\"\\n The UK\\'s FTSE 100 index fell dramatically to close below 4000, in the index\\'s worst week in history. This is despite the fact that just a few days ago the index was above 5000, and the index peaked above 5500 in September.The FTSE 100 index has fallen by 41% this year.\\n Barclays Wealth analyst Henk Potts commented on this massive fall. “We are drowning in a sea of red numbers,” he claimed. “Investors are concerned about the exacerbation of the credit crunch and the gloomy forecasts for economic growth. The reality is that most investors have been spooked by the sheer pressure that the credit crunch is putting on the global economy.”\\n The Japanese Nikkei 225 has recorded it\\'s third biggest drop in history with a massive sell-off in the exchange that has resulted in USD 250 billion being knocked of the index\\'s value.\\n Toyota, which is the second largest carmaker in the world, fell by the largest amount in 21 years, while Elpida Memory, the world\\'s largest manufacturer of computer memory, dropped in value to a record low.\\n Masafumi Oshiden, a fund manager in Toyota commented on the drop.\"It\\'s capitulation,\" he said. \"There are lots of forced sellers. If you\\'re a fund that\\'s going bust you need to close out all your positions.\"\\n George W. Bush commented on the financial situation earlier today. \"Over the past few days, we have witnessed a startling drop in the stock market -- much of it driven by uncertainty and fear,\" he said. \"This has been a deeply unsettling period for the American people. Many of our citizens have serious concerns about their retirement accounts, their investments, and their economic well-being.\"\\n Bush then continued by promoting the government\\'s plan\\'s to get through the crises. \"Here\\'s what the American people need to know: that the United States government is acting; we will continue to act to resolve this crisis and restore stability to our markets. We are a prosperous nation with immense resources and a wide range of tools at our disposal. We\\'re using these tools aggressively.\"\\n Gordon Brown, the UK Prime Minister, also spoke on the economy. “I think we quickly realised that we cannot solve the problems we have got as a result of the sub-prime market collapse simply by improving liquidity,\" he said speaking in Birmingham to business leaders earlier today. “That would simply not be enough to deal with the bigger problem of rebuilding the banking system for the future and restoring trust is a fundamental element of that.”\\n Jim Flaherty, the Canadian minister for finance, also commented today on the recent incidents in the economy. \"It is important to underline that Canada\\'s banks and other financial institutions are sound, well capitalized and less leveraged than their international peers,\" he claimed. \"Our mortgage system is sound. Canadian households have smaller mortgages relative both to the value of their homes and to their disposable incomes than in the U.S.\"\\n \"\"However, it is becoming increasingly clear that the continuing disruption of global credit markets, which has been severe and protracted, is making it difficult for our financial institutions to raise long-term funding. This is beginning to affect the availability of mortgage loans and other types of credit in Canada,\" he continued. \"The Government has therefore decided to act to address the current scarcity of private sector lending to Canadian mortgage markets and lending markets overall. This is going to make loans and mortgages more available and more affordable for ordinary Canadians and businesses.\"\\n \\n Have an opinion on this story? Share it!\\n Share this:\\xa0\\n\\n\\n\\n\\n\\n \\n This page is archived, and is no longer publicly editable.\\n Got a correction? Add the template {{editprotected}} to the talk page along with your corrections, and it will be brought to the attention of the administrators.\\n Please note that due to our archival policy, we will not alter or update the content of articles that are archived, but will only accept requests to make grammatical and formatting corrections.\\n Note that some listed sources or external links may no longer be available online due to age.\\n Got a correction? Add the template {{editprotected}} to the talk page along with your corrections, and it will be brought to the attention of the administrators.\\n Please note that due to our archival policy, we will not alter or update the content of articles that are archived, but will only accept requests to make grammatical and formatting corrections.\\n')"
      ]
     },
     "execution_count": 4,
     "metadata": {},
     "output_type": "execute_result"
    }
   ],
   "source": [
    "text"
   ]
  },
  {
   "cell_type": "markdown",
   "id": "2eea4fe1",
   "metadata": {},
   "source": [
    "### Number of Words - Original Text"
   ]
  },
  {
   "cell_type": "code",
   "execution_count": 5,
   "id": "39d03009",
   "metadata": {},
   "outputs": [
    {
     "data": {
      "text/plain": [
       "'Global markets plunge - Wikinews, the free news source'"
      ]
     },
     "execution_count": 5,
     "metadata": {},
     "output_type": "execute_result"
    }
   ],
   "source": [
    "text[0]"
   ]
  },
  {
   "cell_type": "code",
   "execution_count": 6,
   "id": "0320b8fb",
   "metadata": {},
   "outputs": [
    {
     "data": {
      "text/plain": [
       "9"
      ]
     },
     "execution_count": 6,
     "metadata": {},
     "output_type": "execute_result"
    }
   ],
   "source": [
    "len(str.split(text[0]))"
   ]
  },
  {
   "cell_type": "markdown",
   "id": "7048a0b3",
   "metadata": {},
   "source": [
    "## Summarization"
   ]
  },
  {
   "cell_type": "code",
   "execution_count": 17,
   "id": "ad1ae82b",
   "metadata": {},
   "outputs": [],
   "source": [
    "from gensim.summarization.summarizer import summarize\n",
    "from gensim.summarization import keywords"
   ]
  },
  {
   "cell_type": "markdown",
   "id": "08fa147d",
   "metadata": {},
   "source": [
    "### Printing the Summarized Text\n",
    "\n",
    "### Method #1 - Word Count"
   ]
  },
  {
   "cell_type": "code",
   "execution_count": 8,
   "id": "3525b29c",
   "metadata": {},
   "outputs": [
    {
     "name": "stdout",
     "output_type": "stream",
     "text": [
      "Title : Global markets plunge - Wikinews, the free news source\n",
      "Summary : \n",
      "Bush made an address on the economy and said markets were being \"driven by uncertainty and fear.\"\\n Oil has seen losses of more than US$6 in trading with the current price of a barrel of oil less than $80.\n",
      "The reality is that most investors have been spooked by the sheer pressure that the credit crunch is putting on the global economy.”\\n The Japanese Nikkei 225 has recorded it\\'s third biggest drop in history with a massive sell-off in the exchange that has resulted in USD 250 billion being knocked of the index\\'s value.\\n Toyota, which is the second largest carmaker in the world, fell by the largest amount in 21 years, while Elpida Memory, the world\\'s largest manufacturer of computer memory, dropped in value to a record low.\\n Masafumi Oshiden, a fund manager in Toyota commented on the drop.\"It\\'s capitulation,\" he said.\n"
     ]
    }
   ],
   "source": [
    "print (\"Title : \" + text[0])\n",
    "print (\"Summary : \")\n",
    "print (summarize(repr(text[1]), word_count=100))"
   ]
  },
  {
   "cell_type": "code",
   "execution_count": 9,
   "id": "182cbc53",
   "metadata": {},
   "outputs": [
    {
     "name": "stdout",
     "output_type": "stream",
     "text": [
      "Title : Global markets plunge - Wikinews, the free news source\n",
      "Summary : \n",
      "Bush made an address on the economy and said markets were being \"driven by uncertainty and fear.\"\\n Oil has seen losses of more than US$6 in trading with the current price of a barrel of oil less than $80.\n",
      "Cats Protection had a total of £11.2 million saved in the now-collapsed Kaupthing bank.\\n The British National Council for Voluntary Organisations said that 60 of its 6,500 have lost money due to the collapse of banks.\\n The Dow Jones Industrial Average fell to its lowest level in five years at 8,579.19, falling 679 points in one day.\n",
      "The reality is that most investors have been spooked by the sheer pressure that the credit crunch is putting on the global economy.”\\n The Japanese Nikkei 225 has recorded it\\'s third biggest drop in history with a massive sell-off in the exchange that has resulted in USD 250 billion being knocked of the index\\'s value.\\n Toyota, which is the second largest carmaker in the world, fell by the largest amount in 21 years, while Elpida Memory, the world\\'s largest manufacturer of computer memory, dropped in value to a record low.\\n Masafumi Oshiden, a fund manager in Toyota commented on the drop.\"It\\'s capitulation,\" he said.\n",
      "\"Over the past few days, we have witnessed a startling drop in the stock market -- much of it driven by uncertainty and fear,\" he said.\n",
      "Canadian households have smaller mortgages relative both to the value of their homes and to their disposable incomes than in the U.S.\"\\n \"\"However, it is becoming increasingly clear that the continuing disruption of global credit markets, which has been severe and protracted, is making it difficult for our financial institutions to raise long-term funding.\n"
     ]
    }
   ],
   "source": [
    "print (\"Title : \" + text[0])\n",
    "print (\"Summary : \")\n",
    "print (summarize(repr(text[1]), ratio = 0.1))"
   ]
  },
  {
   "cell_type": "code",
   "execution_count": 10,
   "id": "34cab883",
   "metadata": {},
   "outputs": [],
   "source": [
    "summarized_text = summarize(repr(text[1]), ratio = 0.1)"
   ]
  },
  {
   "cell_type": "markdown",
   "id": "aae1ab01",
   "metadata": {},
   "source": [
    "### Number of Words - Summarized Text"
   ]
  },
  {
   "cell_type": "code",
   "execution_count": 11,
   "id": "9bab54d7",
   "metadata": {},
   "outputs": [
    {
     "data": {
      "text/plain": [
       "143"
      ]
     },
     "execution_count": 11,
     "metadata": {},
     "output_type": "execute_result"
    }
   ],
   "source": [
    "len(str.split((summarize(repr(text[1]), word_count=100))))"
   ]
  },
  {
   "cell_type": "markdown",
   "id": "739e12a0",
   "metadata": {},
   "source": [
    "### Keywords"
   ]
  },
  {
   "cell_type": "code",
   "execution_count": 12,
   "id": "54e61dee",
   "metadata": {},
   "outputs": [
    {
     "name": "stdout",
     "output_type": "stream",
     "text": [
      "\n",
      "Keywords:\n",
      "markets\n",
      "market\n",
      "drop\n",
      "dropped\n",
      "drops\n",
      "largest\n",
      "fell\n",
      "low\n",
      "lows\n",
      "canadian\n",
      "canadians\n",
      "oil\n",
      "commented\n",
      "mortgage\n",
      "mortgages\n",
      "fall\n",
      "falling\n",
      "falls\n",
      "correction\n",
      "corrections\n",
      "national\n",
      "nation\n",
      "saw\n",
      "said\n",
      "today\n",
      "company\n",
      "companies\n",
      "collapse\n",
      "collapsing\n",
      "european\n",
      "banks\n",
      "bank\n",
      "banking\n",
      "states\n",
      "restore\n",
      "restoring\n",
      "unsettling\n",
      "people\n",
      "credit\n"
     ]
    }
   ],
   "source": [
    "print ('\\nKeywords:')\n",
    "print (keywords(text[1], ratio=0.1))"
   ]
  },
  {
   "cell_type": "code",
   "execution_count": 13,
   "id": "a81e48be",
   "metadata": {},
   "outputs": [
    {
     "name": "stdout",
     "output_type": "stream",
     "text": [
      "\n",
      "Keywords:\n",
      "market\n",
      "drops\n",
      "largest\n",
      "fell\n",
      "lows\n",
      "canadians\n",
      "oil\n",
      "commented\n",
      "mortgages\n",
      "falls\n",
      "corrections\n",
      "nation\n",
      "saw\n",
      "said\n",
      "today\n",
      "companies\n",
      "european\n",
      "banking\n",
      "restoring\n",
      "unsettling\n",
      "people\n",
      "states\n",
      "credit\n"
     ]
    }
   ],
   "source": [
    "print ('\\nKeywords:')\n",
    "print (keywords(text[1], ratio=0.1, lemmatize=True))"
   ]
  },
  {
   "cell_type": "markdown",
   "id": "88fef116",
   "metadata": {},
   "source": [
    "# Scrap data using beutifulsoup as a general code"
   ]
  },
  {
   "cell_type": "code",
   "execution_count": 14,
   "id": "e9301d39",
   "metadata": {},
   "outputs": [],
   "source": [
    "import wikipedia as w\n",
    "import pandas as pd"
   ]
  },
  {
   "cell_type": "code",
   "execution_count": 15,
   "id": "b46c7df3",
   "metadata": {},
   "outputs": [
    {
     "data": {
      "text/plain": [
       "'The Flash (Bartholomew Henry \"Barry\" Allen) is a superhero appearing in American comic books published by DC Comics. The character first appeared in Showcase #4 (October 1956), created by writer Robert Kanigher and penciler Carmine Infantino. Barry Allen is a reinvention of the original Flash, Jay Garrick.\\nBecause he is a speedster, his power consists mainly of superhuman speed. Various other effects are also attributed to his ability to control the slowness of molecular vibrations, including his ability to vibrate at speed to pass through objects. The Flash wears a distinct red and gold costume treated to resist friction and wind resistance, traditionally storing the costume compressed inside a ring.\\nBarry Allen\\'s classic stories introduced the concept of the Multiverse to DC Comics, and this concept played a large part in DC\\'s various continuity reboots over the years. The Flash has traditionally always had a significant role in DC\\'s major company-wide reboot stories, and in the crossover Crisis on Infinite Earths #8 (November 1985), Barry Allen died saving the Multiverse, removing the character from the regular DC lineup for 23 years. His return to regular comics is foreshadowed during the narrative (and a single image of a blur) in Grant Morrison\\'s crossover story Final Crisis: Rogues\\' Revenge #3 (November 2008), fully actualized in Geoff Johns\\' accompanying The Flash: Rebirth #1 (June 2009), kicking off a six-issue limited series. He has since played a pivotal role in the crossover stories Blackest Night (2009), Flashpoint (2011), Convergence (2015), and DC Rebirth (2016).\\nBarry Allen has been featured in several media, first appearing in animated form in the 1967 The Superman/Aquaman Hour of Adventure and then in the related Super Friends program. Since then he has appeared in several DC Universe Animated Original Movies. Actor John Wesley Shipp portrayed the character in the live-action 1990s television show The Flash and the Arrowverse. Allen is currently portrayed by Grant Gustin in the Arrowverse shows in a main capacity, especially the 2014 television series The Flash, while Ezra Miller portrays the character in the DC Extended Universe films Batman v Superman: Dawn of Justice, Suicide Squad, Justice League, the director\\'s cut Zack Snyder\\'s Justice League and the HBO Max series Peacemaker.\\nThey will return in the 2023 film The Flash.'"
      ]
     },
     "execution_count": 15,
     "metadata": {},
     "output_type": "execute_result"
    }
   ],
   "source": [
    "text=w.summary(\"Flash (Barry Allen)\")\n",
    "text\n"
   ]
  },
  {
   "cell_type": "code",
   "execution_count": 16,
   "id": "42c257be",
   "metadata": {},
   "outputs": [
    {
     "name": "stdout",
     "output_type": "stream",
     "text": [
      "Page title :  Flash (Barry Allen) \n",
      "\n",
      "Page content :  The Flash (Bartholomew Henry \"Barry\" Allen) is a superhero appearing in American comic books published by DC Comics. The character first appeared in Showcase #4 (October 1956), created by writer Robert Kanigher and penciler Carmine Infantino. Barry Allen is a reinvention of the original Flash, Jay Garrick.\n",
      "Because he is a speedster, his power consists mainly of superhuman speed. Various other effects are also attributed to his ability to control the slowness of molecular vibrations, including his ability to vibrate at speed to pass through objects. The Flash wears a distinct red and gold costume treated to resist friction and wind resistance, traditionally storing the costume compressed inside a ring.\n",
      "Barry Allen's classic stories introduced the concept of the Multiverse to DC Comics, and this concept played a large part in DC's various continuity reboots over the years. The Flash has traditionally always had a significant role in DC's major company-wide reboot stories, and in the crossover Crisis on Infinite Earths #8 (November 1985), Barry Allen died saving the Multiverse, removing the character from the regular DC lineup for 23 years. His return to regular comics is foreshadowed during the narrative (and a single image of a blur) in Grant Morrison's crossover story Final Crisis: Rogues' Revenge #3 (November 2008), fully actualized in Geoff Johns' accompanying The Flash: Rebirth #1 (June 2009), kicking off a six-issue limited series. He has since played a pivotal role in the crossover stories Blackest Night (2009), Flashpoint (2011), Convergence (2015), and DC Rebirth (2016).\n",
      "Barry Allen has been featured in several media, first appearing in animated form in the 1967 The Superman/Aquaman Hour of Adventure and then in the related Super Friends program. Since then he has appeared in several DC Universe Animated Original Movies. Actor John Wesley Shipp portrayed the character in the live-action 1990s television show The Flash and the Arrowverse. Allen is currently portrayed by Grant Gustin in the Arrowverse shows in a main capacity, especially the 2014 television series The Flash, while Ezra Miller portrays the character in the DC Extended Universe films Batman v Superman: Dawn of Justice, Suicide Squad, Justice League, the director's cut Zack Snyder's Justice League and the HBO Max series Peacemaker.\n",
      "They will return in the 2023 film The Flash.\n",
      "\n",
      "\n",
      "== Publication history ==\n",
      "The Flash (Barry Allen) first appeared in print in Showcase #4 (October 1956).  The creative team on Showcase #4 was Julie Schwartz, editor; Robert Kanigher, writer, Carmine Infantino, penciler (illustrator);  Joe Kubert, inker (assistant illustrator). Robert Kanigher is on record as saying he still considers Gardner Fox as \"the creator of The Flash\" and his creation of Barry Allen is a reworking of that original work.  As a result, no one name is easily identifiable as the \"creator\" of The Flash (Barry Allen).Fox's superhero, \"The Flash\" first appeared Flash Comics #1 in 1940.  In this story the man in the costume (he wore no mask) was named Jay Garrick. He rose in popularity and appeared in three comic book titles.\n",
      "After World War II, superheroes declined in popularity, causing many of the Flash's comic book series to be canceled. All-Flash was canceled in 1948 after 32 issues. Flash Comics was canceled in 1949 after 104 issues. All-Star Comics was canceled in 1951 after 57 issues, marking Garrick's last Golden Age appearance.\n",
      "The popularity and circulation of comic books about superheroes had declined following World War II, and comic books about horror, crime and romance took larger shares of the market. However, controversy arose over alleged links between comic books and juvenile delinquency, focusing in particular on crime, horror, and certain elements of superheroes. In 1954, publishers implemented the Comics Code Authority to regulate comic content.\n",
      "In the wake of these changes, publishers began introducing superhero stories again (as preferable to crime and horror), a change that began with the introduction of a new version of DC Comics' The Flash in Showcase #4 (October 1956).\n",
      "In 1956, DC Comics reinvented the Flash character, giving him a new costume, name, and background. This new Flash, named Barry Allen, was completely unrelated to Jay Garrick. In fact, Garrick had never existed, as far as the new books were concerned. Barry Allen's first appearance shows him reading a copy of Flash Comics, lamenting that Garrick was \"just a character some writer dreamed up\". Readers welcomed the new Flash, but still had an interest in the old one.\n",
      "Also introduced at this time was Iris West, Barry Allen's then love interest (and later wife), and \"Lois Lane\" to his \"Clark Kent\".  Like Lois Lane, Iris West was a reporter, in this case for Picture News.\n",
      "Wally West, the nephew of Iris West, first appeared in Flash #110 (1959), which depicted his transformation into Kid Flash, the \"Robin\" to the Flash's \"Batman\".  Wally West would later go on to become the new Flash many years later.\n",
      "Jay Garrick made a guest appearance in 1961 in Flash #123 \"Flash of Two Worlds\". In this issue, Garrick was treated as residing in a parallel universe (Earth-Two), which allowed the character to exist without any continuity conflicts with Barry Allen (who existed on Earth-One), yet allowed him to make guest appearances in Silver Age books.\n",
      "Barry Allen and Iris West were shown to get married in 1966 in Flash #165 \"One Bridegroom Too Many!\"\n",
      "\n",
      "\n",
      "== Fictional character biography ==\n",
      "Barry Allen is a forensic chemist with a reputation for being very slow, and frequently late, which frustrates his fiancée, Iris West. One night, as he is working late on a new case, a lightning bolt strikes and shatters a case full of unspecified chemicals and drenches all over Barry, temporarily knocking him out. As a result, Allen later finds that he can run at super-human speeds and possesses equally enhanced reflexes, senses, and healing. He later dons a red bodysuit, sporting a lightning bolt in the chest (reminiscent of the original Fawcett Comics Captain Marvel), dubs himself the Flash (after his childhood comic book hero, Jay Garrick), and becomes Central City's resident costumed crime fighter and protector.Central City University professor Ira West (Iris's adoptive father) designed Allen's costume and the ring which stores it while Allen is in his civilian identity. The ring can eject the compressed clothing when Allen needs it and suck it back in with the aid of a special gas that shrinks the suit. In addition, Allen invented the cosmic treadmill, a device that allowed for precise time travel and was used in many stories. Allen was warmly received by his superhero colleagues, so much so, that nearly all speedsters that come after him are often compared to him. Batman once said \"Barry is the kind of man that I would've hoped to become if my parents had not been murdered.\"\n",
      "\n",
      "\n",
      "=== Justice League ===\n",
      "As presented in Justice League of America #9, when the Earth is infiltrated by alien warriors sent to conquer the planet, some of the world's greatest heroes join forces, Allen among them. While the superheroes individually defeat most of the invaders, they fall prey to a single alien and only by working together are they able to defeat the warrior. Afterwards, the heroes decide to establish the Justice League.\n",
      "During the years, he is depicted as feeling slightly attracted to Black Canary and Zatanna, but he never pursues a relationship because he feels his real love is Iris West, whom he ultimately marries. Allen also becomes a good friend with Green Lantern (Hal Jordan), which would later be the subject of the limited series Flash and Green Lantern: The Brave and the Bold.\n",
      "In The Flash #123—\"Flash of Two Worlds\"—Allen is transported to Earth-Two where he meets Jay Garrick, the original Flash in DC Continuity; it is revealed that Jay Garrick's adventures were captured in comic book form on Earth-One. This storyline initiated DC's multiverse and was continued in issues of Flash and in team-ups between the Justice League of America of Earth-One and the Justice Society of America of Earth-Two. In the classic story from Flash #179—\"The Flash – Fact or Fiction?\"—Allen is thrown into the universe eventually called Earth Prime, a representation of \"our\" universe, where he seeks the aid of the Flash comic book's editor Julius Schwartz to build a cosmic treadmill so that he can return home. He also gains a sidekick and protégé in Iris' nephew, Wally West, who gains super-speed in an accident similar to that which gave Allen his powers.\n",
      "\n",
      "\n",
      "=== Tragedy ===\n",
      "In time, he married his girlfriend Iris West, who learned of his double identity because Allen talked in his sleep. She kept this secret, and he eventually revealed his identity to her of his own free will with Moreno's persuasion. Iris was eventually revealed to have been sent as a child from the 30th century and adopted.\n",
      "In the 1980s, Flash's life begins to collapse. Iris is murdered by Professor Zoom (a supervillain from the 25th century who had long loved her and been jealous of Allen), and when Allen prepares to marry another woman, Zoom tries the same trick again. Allen stops him, killing Zoom in the process by breaking his neck. Unfortunately, when Barry is unable to make an appearance at his own wedding, his fiancée eventually descends into madness and stomps \n",
      "out of the room walking in somber.\n",
      "Placed on trial for murder in connection with Zoom's death, Allen is found guilty by the jury. When he is told by a juror Nathan Newbury, who is being possessed by a mind from the future, that Reverse-Flash (whom Allen knows to be dead) brainwashed the jury into this verdict, Flash flees his trial. The Flash is then attacked by Reverse-Flash, and realizes that the answers to this mystery, and restoring his good name, lie in the future, so Newbury uses a time device to send them forward. They discover that Abra Kadabra was disguised as Reverse-Flash to ruin the Flash's good name. Defeating Kadabra, he retreats to the future to be reunited with Iris, having learned that Iris' spirit was in fact drawn to the 30th century, and given a new body (and was in fact the mind inhabiting Newbury). The final issue of The Flash ends with Flash and Iris kissing passionately and the caption \"And they lived happily ever after... for a while\". There are a few references in the final issue (The Flash #350) to the upcoming events, and Flash's impending death.In the controversial storyline Identity Crisis (sets within the post-Zero Hour continuity), it is revealed that Barry voted to allow Zatanna to edit Doctor Light's mind with four of the members of the Justice League six months after Iris's death, essentially lobotomizing him. When Batman discovers what the League was doing, they have his memories edited as well despite the opposition from Green Arrow. Both Doctor Light and Batman would eventually recover from their respective mindwipe, leading Doctor Light to swear vengeance to all heroes and Batman's distrust towards his allies.\n",
      "\n",
      "\n",
      "=== Crisis on Infinite Earths ===\n",
      "\n",
      "Following the trial, Allen retires and joins Iris in the 30th century. After only a few weeks of happiness, the Crisis on Infinite Earths intervenes, and Allen is captured by the Anti-Monitor and brought to 1985; according to the Anti-Monitor, the Flash was the only being capable of traveling to other universes at will, so the Anti-Monitor could not allow him to stay free. Allen escapes and foils the Anti-Monitor's plan to destroy the Earth with an anti-matter cannon, creating a speed vortex to draw the power in, but dies in the process as the power becomes too much for his body. It has been said that Allen travels back through time and becomes the very same lightning bolt that gives him his powers, but later it is also strongly implied that the soul of Barry resides in the Speed Force, the mystical source and Valhalla open to all dead speedsters, and from which the living ones draw their amazing powers. After Allen's death, Kid Flash Wally West, his nephew and sidekick, takes up the mantle of the Flash.\n",
      "\n",
      "\n",
      "==== After death ====\n",
      "Marv Wolfman, scribe for the Crisis on Infinite Earths, has repeatedly stated (first hinted at in his introduction to the original Crisis collected edition hardcover), then fully explained on his website that he left a loophole in the script wherein the Barry Allen Flash could be reintroduced, without a retcon, into DC Universe continuity. This loophole would allow a writer to pull Barry out of his desperate run to annihilate the anti-matter cannon. However, Barry would know he must someday finish his death run, and would become more determined to use his speed to help others.\n",
      "In Deadman: Dead Again, Barry is one of the heroes whose spirit Deadman helps to enter Heaven, and the Green Arrow storyline \"Quiver\" depicts Barry Allen in Heaven. His spirit seems to still be alive within the Speed Force, along with Max Mercury and other speedsters.\n",
      "In Quasar by Marvel Comics, released between December 1990 and May 1994, an amnesiac Barry Allen, misremembering his name as \"Buried Alien\" and the Speed Force as the \"Hyperforce\", and surprised to have \"form\" again, enters the Marvel Universe in the middle of the great race to be the \"Fastest Man Alive\" after the players had passed the first warp junction, where he is discovered by the Runner co-ordinating it and invited to participate in his great race. Beating several other speedsters (Pietro \"Quicksilver\" Maximoff, Wendell \"Quasar\" Vaughn, Robert \"The Whizzer\" Frank, Captain Marvel, James \"Speed Demon\" Sanders, Ariana \"Black Racer\", Martin \"Super Sabre\" Fletcher and Makkari) he is declared to be the \"fastest man alive\", a title he believes feels \"right\", though he never recovers his memory during his time in the universe. He later adopted the alias \"FastForward\", before he is returned to his original universe with Makkari's assistance.\n",
      "\n",
      "\n",
      "=== Legacy ===\n",
      "Iris is pregnant, and she has two children who have super-speed powers, the Tornado Twins, who later meet the Legion of Super-Heroes. In the multiversal variant known as Earth-247, each of her children themselves have children with speed-based abilities. One, Jenni Ognats, grows up to become the Legionnaire XS, while the other, Bart Allen, is born with an accelerated metabolism that rapidly ages him, and is sent back to the 20th century where he is cured by Wally West. He remains there as the superhero Impulse under the tutelage of Max Mercury, and later becomes the second Kid Flash as a member of the Teen Titans. One year after the events of Infinite Crisis, Bart becomes the fourth Flash until he is abruptly killed by his clone Inertia and the Rogues. Wally then retook the identity of the Flash. Bart would later be resurrected as Kid Flash by the Legion of Super-Heroes in the 31st century to combat Superboy-Prime.\n",
      "\n",
      "\n",
      "=== JLA/Avengers ===\n",
      "Barry Allen appears in issue 3 as the Flash in the JLA when the two realities start changing, along with Hal Jordan. When the two teams see their real futures, Barry witnesses his death during Crisis on Infinite Earths as the Grandmaster shows the heroes how reality should be, but nevertheless resolves to help restore the timeline as it is not his place to play God. He talks with Hal Jordan over the similarity of their situation, stating that dying could not be so bad so long as they have left a legacy for others (Wally West and Kyle Rayner, in their cases) to fight for what they believe. He helps the team get into Krona's base by using his running on a treadmill to pass the ship through the dimensional barrier. With the Wasp, he is ordered by Captain America to find ways through Krona's defences, and alerts the group to a probably lethal force field. During the final battle, Barry saves Hawkeye from being killed when the Absorbing Man breaks the ground beneath him, but both of them are blasted and apparently killed by Dreamslayer. At the end, it is revealed that Barry got the two of them out alive and at Captain America's suggestion they laid low and because of this, Hawkeye is able to destroy Krona's machine with a TNT arrow while Barry distracts him, then Barry takes the 12 items of power. As a result, reality is restored, Barry disappears and Wally returns.\n",
      "\n",
      "\n",
      "=== Post-Crisis appearances ===\n",
      "Wally West, wracked by grief for the loss of his unborn twins at the hands of Zoom, regrets the public knowledge of his identity. Barry appears from somewhere in time—stating that he is from a period shortly before his death—counseling his nephew, and talking the Spectre into granting his wish, erasing all public knowledge of Wally and Barry's identities as the Flash (Although Wally himself also loses his memory of his identity for a time). Barry then disappears, telling his nephew that he will come to his aid three times, on the three most difficult days of his life of which this is the first. In fact, when Zoom enlists the aid of the original Professor Zoom to make Wally relive the loss of his beloved twins, Barry is already there, trying to stop his \"own\" Reverse-Flash; Zoom apparently retrieved Eobard Thawne from the day that he attempted to kill Fiona Webb, with Barry following his nemesis. For the second time, he helps Wally to undo the damage dealt by Zoom, also allowing Wally to save his twins, and then he returns to his proper time, dragging his Zoom with him and breaking his enemy's neck in his timeline.\n",
      "\n",
      "\n",
      "==== Infinite Crisis ====\n",
      "\n",
      "In the fourth issue of Infinite Crisis, Barry Allen comes out from the Speed Force, along with Johnny Quick and Max Mercury, to help his grandson Bart deal with Superboy-Prime, taking the villainous teen with him in the Speed Force. Bart Allen appears wearing Barry Allen's costume in Tokyo near the end of Infinite Crisis #5 to tell the heroes that Superboy-Prime has escaped the Speed Force. Bart again reappears in Infinite Crisis #7 in Barry Allen's costume to combat Superboy-Prime once more.\n",
      "In Flash: The Fastest Man Alive #6 (2006) (with a portion taking place shortly before Infinite Crisis #5) it is told how Barry spent four years in an alternate Keystone City along with Max Mercury, Johnny Quick, and an alternate Jay Garrick, until he met Bart and Wally West, joining him after the battle against Superboy-Prime. After Superboy escapes, Barry suggests that someone has to absorb the whole Speed Force and cross the dimensional bridge back to Post-Crisis Earth. As Bart volunteers, Barry gives him his suit as a last gift, to keep the Force contained, and stays behind. Wally West did not go because of his wife and kids. Bart says he knows Barry would go if he could, but why Barry Allen could not make the journey himself is not stated.\n",
      "\n",
      "\n",
      "=== Flash's return ===\n",
      "\n",
      "Twenty three years after his death in Crisis on Infinite Earths #8, Barry Allen's essence made a return to the present DC Universe proper in DC Universe #0, preceding his full-time return in the pages of writer Grant Morrison's Final Crisis.\n",
      "DC Universe #0 features an unnamed narrator who initially associates himself with \"everything\". As the story progresses, he begins to recall his past and association with Justice League members, particularly Hal Jordan and Superman. The lettering in which he speaks to the reader is yellow on backgrounds that are initially black. As the story moves forward, the background slowly begins turning red. In the final pages, the narration boxes feature a yellow lightning bolt. Over time, as he recalls friendships and connections with other people, his mind begins to narrow, remarking \"I...know him. I am no longer everything. I am a shaft of light split through a prism\". Yet he is still the only one able to see \"the shadow falling over everything\", in the form of Darkseid. On the final page, the moon appears in front of a red sky, as a yellow lightning bolt strikes diagonally in front of it creating the logo of the Flash, as he remarks \"and now I remember\". The title of the story is revealed to be \"Let There Be Lightning\".A Daily News story released on the same day proclaimed that Barry Allen has returned to life, with issue co-writer Geoff Johns stating, \"When the greatest evil comes back to the DC Universe, the greatest hero needed to return.\"\n",
      "\n",
      "\n",
      "==== Final Crisis ====\n",
      "\n",
      "Barry makes his corporeal return in Final Crisis #2. On the second to last page, Jay Garrick and Wally West feel vibrations to which Jay remarks, \"but, don't you recognize those vibrations? It can't be... Not after all these years... Not after all this time.\" On the final page, Barry Allen is seen in hot pursuit of the bullet which kills Orion, outrunning the Black Racer and shouting to Jay and Wally to \"Run!\"During Final Crisis #3, Jay Garrick speaks to Barry's wife, Iris, and tells her that her husband is truly alive. Meanwhile, Wally and Barry run a few weeks into the future. When they come to rest, Wally asks Barry if it is really him. Lamenting on Orion's death, which he was unable to stop, Barry wonders why he is now alive after being dead for so long. It is then that Barry and Wally are confronted by Wonder Woman, Batwoman, Catwoman, and Giganta, who have all been transformed into the new Female Furies following the release of the Anti-Life Equation.Despite the fact that this new version of the Female Furies is equipped with the ability to track down speedsters, perceived by Libra and Darkseid as the only obstacle left between them and world domination, Barry's expertise allows him to overcome their foes and run through the ruined Earth.\n",
      "Barry stops to see his wife Iris and save her from the slavery of the Anti-Life Equation. Seeing his wife again for the first time in years, Barry is overcome with emotion and gives his brainwashed wife a deep kiss. While kissing her, the Speed Force sparkles out of his body, enveloping Iris and freeing her from the Equation. The Allens and Wally West are left to fend in a conquered world. In the seventh and final issue of Final Crisis, Barry and Wally lead the Black Racer to Darkseid, dealing the cosmic tyrant a blow that, coupled with Batman shooting him in the shoulder with the god-bullet, would facilitate his ultimate defeat.\n",
      "\n",
      "\n",
      "==== The Flash: Rebirth ====\n",
      "\n",
      "In 2009, writer Geoff Johns and artist Ethan Van Sciver created The Flash: Rebirth, a 6-issue miniseries bringing Barry Allen back to a leading role in the DC Universe as the Flash, much in the same vein as Green Lantern: Rebirth. When asked what Flashes would appear in the series, Johns and Van Sciver said, \"All of them.\"\n",
      "The series begins with the cities of Central and Keystone celebrating the return of, \"Central City's Flash\", Wonder Woman having used her government contacts to create the story that Barry was in witness protection to account for his resurrection. Avoiding the parades, parties, and other celebrations of his return, Barry instead contemplates why he is alive again. A visit to the Flash Museum and from his friend Hal Jordan is not enough to put his mind at ease as he runs off as the Flash. \"I can't be late,\" he says. When asked by Hal late for what, Flash replies, \"For whatever the rest of the world needs me for.\"\n",
      "It is then revealed that Flash's mother was murdered when he was a child, and his father was arrested for the crime (this is pointedly contrary to previous Flash stories, in which both his parents appear alive). Flash describes this as \"the only one open case I left behind.\" Before he can contemplate this any further, the speedster villain Savitar escapes the Speed Force through Flash. When Flash manages to put his hand on Savitar's shoulder, the villain screams in agony and crumbles into dust, not before telling Flash, \"...You were the beginning, Allen...and you're the end.\" At that moment, Wally West, West's children Iris and Jai, Liberty Belle, Jay Garrick, and Kid Flash all experience painful convulsions and are engulfed in lightning.Barry's conflict with the speed cult culminates in the death of their new leader who was attempting to avenge Savitar's death. It causes pain once again to all the speedsters, though Wally West manages to catch a glimpse of Allen directly afterwards, and sees him as the new Black Flash. When he realizes that his presence could damage or kill other innocents, Barry flees back into the Speed Force, where he encounters old friends Johnny Quick and Max Mercury. Max attempts to tell Allen that his becoming the Black Flash is not his fault. When Max and Barry are pulled into another pocket of the Speed Force, the real culprit reveals himself: Professor Zoom.Zoom reveals his plan: after Barry briefly aided Kid Flash against Superboy-Prime during the Infinite Crisis, Thawne was able to send a subliminal pulse into the Speed Force to draw back what was left of Barry's self-awareness. This led to the hero's reappearance during the Final Crisis. Afterward, Zoom transformed himself into \"a new kind of speedster and created his negative Speed Force to contaminate Barry and the other heroic speedsters. Before Barry can fight any further, Zoom fades away. Wally enters the Speed Force to retrieve his uncle, and after venturing deeper into the Speed Force, Max reveals to Barry that it was Allen himself who created the Speed Force. Meanwhile, Wally manages to reach Barry and Max, and the three begin their escape. As the heroic speedsters are recharged with energy, Barry, Wally, Jay, Max, and Bart charge towards Zoom.The seven speedsters (the 5 men plus Jesse Chambers and Iris West-Park) battle against Zoom, and despite being outnumbered, Zoom pulls Barry away. He reveals that everything horrible that happened to Barry, including the murder of Barry's mother, was caused by Zoom. Zoom then decides to destroy everything by killing Barry's wife, Iris, before they met.Barry chases after Zoom, and is joined by Wally, who tells Barry to push as hard as he can to break the time barrier. They reach Thawne, becoming the lightning bolt that turns Barry into the Flash as they are able to stop Zoom from killing Iris. As the two Flashes push Zoom back through time to the present, they see that the Justice League, the Justice Society, and the Outsiders have built a device specifically for Thawne. Barry tosses him in and activates the device, severing his connection to the negative Speed Force. The Flashes tie Zoom up to stop him from running. With the threat ended, everyone celebrates by welcoming Barry back and the speedsters in general. Later, Barry closes the case on his mother's death and opts to take all the other cold cases they had after his death. Barry spends some time with Iris before racing to Washington to celebrate his return with the Justice League, apologizing for being late.\n",
      "\n",
      "\n",
      "==== Blackest Night ====\n",
      "\n",
      "Barry Allen is one of the main characters in Blackest Night alongside Hal Jordan. Allen appears alongside Jordan in the Free Comic Book Day issue Blackest Night #0 that acts as a prologue to the July company crossover.\n",
      "At the grave of Bruce Wayne in Gotham City, Hal and Barry reflect on Batman's death and how the hero community is avoiding linking Wayne and Batman.\n",
      "This reflection turns to the pair looking at their own deaths, comparing the sadness that Barry's death engendered in others while Hal's death produced anger. Hal sums it up by telling Barry, \"I died a sinner. You died a saint.\" (though he admits he's not and reflecting of his past sins.) The conversation moves on to the world becoming \"more dangerous\" after Barry's death and observing that the deaths of Arthur Curry and Martian Manhunter cost the Justice League its \"heart and soul\". As they leave the cemetery, Barry expresses hope that their dead comrades will be returned to them. He specifically cites Batman noting, \"If there's an escape, you can bet Batman's already planning it.\"Barry also appears alongside Hal in the July issues of Green Lantern tying into the event. Recently, in a fight with Black Lantern J'onn J'onzz, he found a mysterious black residue at Bruce Wayne's grave—a black form coagulating much like blood that started corrupting him by partly decaying his skin and muscle during the fight against his former friend, who is intent on killing both Hal and Barry, seeing how they both died, and in the eyes of the Black Lanterns, must return to that state to keep the universe in balance.After fighting off the undead Martian and the subsequent Black Lanterns with Hal and the arriving Atom, Mera, Firestorm, and two of the Indigo Tribe members, Barry, along with Wally and Bart, races across the globe to warn every superhero community across the planet. His message also inadvertently warns the Rogues. They all realize that their deceased members would come after them and decide to strike first at Iron Heights Penitentiary, unaware that the undead Rogues are ready for them. While doing so, Barry meets a Black Lantern version of Professor Zoom for a brief battle. Barry decides to go to Gorilla City to seek aid from its ruler Solovar, unaware the gorilla leader had been killed years before. Finding the city attacked, Barry assumed Grodd had struck only to be horrified to learn Solovar was now a Black Lantern. Their fight was shortened by Barry racing to Coast City.He stops at the city's memorial, where he witnesses the arrival of the Black Lanterns' demonic lord, Nekron, and his disciples Scar and Black Hand. The Justice League, the Titans, Wally, and Bart arrive to aid Barry to take a stand against Nekron. Nekron reveals that all the resurrected heroes are tied to him, because he allowed them to rise again. As such they belong to him. Nekron then used a series of black rings to turn Superman, Wonder Woman, Troia, Green Arrow, Bart, and several other resurrected heroes into Black Lanterns. Barry and Hal find themselves being targeted by black rings and are forced to flee or risk joining the others as Black Lanterns.\n",
      "Barry manages to save himself and Hal through time travel two seconds forward, leaving the rings with no present targets. As Barry and Hal rejoin the heroes against Nekron and his army, Ganthet, one of the Guardians of the Universe and a leader of the Blue Lantern Corps, summons a blue power ring and Barry is chosen as a Blue Lantern so he would be more effective during the battle.After being chosen as a Blue Lantern, Barry joins forces with the veteran Blue Corps member Saint Walker to continue battling the Black Lanterns alongside the understanding of the potentials and limitations of his new power ring. During the battle, Barry is forced to fight his own grandson, who his ring detects is still alive but would eventually die if not free from the black ring soon. Barry is shown to be skilled with his ring in creating energy constructs based on his imagination and an ability of flight (possibly because of the understanding with Hal's ring), as he is able to create images of Bart as Impulse and Kid Flash against him in order to make him feel again. Barry's plan almost works as Bart reacts to the images of his past and the constructs begin to attempt to take the black ring from him, but later is interrupted by the Black Lantern Professor Zoom and Solovar. Wally and Walker later join Barry to fight against them. Barry and Bart temporarily joined the White Lantern Corps during the final events of Blackest Night.\n",
      "\n",
      "\n",
      "=== The Flash Volume 3 ===\n",
      "\n",
      "The new Flash series begins after the completion of Blackest Night and the beginning of Brightest Day. After the events of The Flash: Rebirth, Barry Allen is reintegrating himself into life in Central City. Under the cover of having been in witness protection, Allen returns to the Central City Police Department's crime lab and returns to the streets as the Flash. While readjusting to life as the Flash, a man appears out of thin air in the costume of Flash rogue the Mirror Master, and promptly dies on the street.\n",
      "When Barry arrives on the scene to investigate, he sees the man is neither original Mirror Master Sam Scudder, or the current Rogue, Evan McCulloch. Hearing of another portal appearing, Barry transforms into the Flash and runs to investigate. When he arrives, a group of people in costumes similar to the Rogues, called The Renegades appear and tell Barry that they are from the 25th century, and that he is under arrest for murdering the \"Mirror Monarch\". Barry tells the crew that he has not killed anyone, to which their leader, \"Commander Cold\", tells him, \"Not yet. But you will.\"After a brief struggle, where Weather Warlock's time disc was damaged, the Renegades were forced back to the 25th century, which also caused the destruction of an apartment building due to their uncontrolled jump back. Barry saves everyone in the building, even rebuilding the building in minutes, and goes on to search for the true killer of Mirror Monarch. He is attacked again by the Renegades, but only before Captain Boomerang shows up, now wielding explosive energy boomerangs. Boomerang fights both the Flash and the Renegades, and a confused Top (one of the Renegades from the 25th century) questions his teammates on whether or not Barry Allen is the man they are looking for, pointing out that in their timeline, Boomerang never showed up.\n",
      "The Renegades finally corner Captain Boomerang when the Rogues arrive with a giant mirror left by the previous Mirror Master that says \"In Case The Flash Returns Break Glass\". An all out brawl ensues as the Rogues battle the Renegades. Meanwhile, Flash is confronted by Top who warns him that the reason he will eventually kill Mirror Monarch is because of Iris's death, which he claims will be caused when the giant mirror breaks, releasing the Mirror Lords. Top tells Barry that one of the Mirror Lords will possess Iris and take her away from him. Barry races to stop the mirror from breaking, with Top at his side. However, when the White Lantern entity reaches out to Captain Boomerang, telling him to \"Throw the Boomerang\", Boomerang responds by throwing dozens of boomerangs in every direction. One of them hits the glass and it begins to break. Top tells Flash to stop the Mirror Lords, while he goes and protects Iris. Flash questions does not make sense, but Top throws him into the mirror and flees.\n",
      "In the mirror, Flash is exposed to strange visions of his mother. Outside, the Rogue Mirror Master tells the others that the mirror is actually a slow acting poison and they flee. Barry escapes the mirror confused and asks, \"Where are the Mirror Lords?\" He is then arrested by the Renegades, who realize that this was all a setup by Top to frame the Flash for his own personal gains. Barry is transported to a 25th-century court, while Top confronts Iris.\n",
      "The story concludes with Barry escaping the 25th century court and going after Top. Top reveals that the reason for all of his crimes is because Barry reopened a previously closed case. Barry felt that the person convicted was actually innocent. The person who is actually guilty of the crime is one of Top's ancestors. Top reveals that they do not allow anyone in the Renegades who has any ancestors with a criminal record. The Flash is able to beat Top, and convict the right man for murder, letting go the innocent man who was sent to prison. Afterward, the 25th century court and the Renegades go over the facts, realizing that the Flash was right and that their entire record of history is wrong. This alludes to the upcoming Flash event, Flashpoint. Meanwhile, a man on a Speed Force-powered motorcycle (later revealed to be a Speed Force police officer under the name of Hot Pursuit) moves through the desert and says that if Barry does not find the flashpoint, it will destroy the world. As he continues through the desert, Speed Force lightning strikes in the distance.\n",
      "In a Green Lantern storyline, Barry becomes the latest host for the embodiment of fear, Parallax, after he joins Hal Jordan's quest of locating all of the entities who each represent aspects of the power of the emotional spectrum. Barry was susceptible to the entity's attacks due to his fear for Jordan's safety. Barry is eventually freed after the embodiment of compassion, Proselyte, helps him remember his capability for benevolence over his fear.\n",
      "DC has also announced via the Flashpoint Friday Blog that The Flash (vol. 3) #12 will be the last in the series despite a thirteenth issue originally having been announced for sale on May 25, 2011, but which has since been withdrawn.\n",
      "\n",
      "\n",
      "==== Flashpoint ====\n",
      "\n",
      "As the story begins, Barry Allen wakes up in his office and discovers that his mother is alive, there is no trace of Superman, Wonder Woman and Aquaman leading their respective nations in a war, his wife Iris West is unmarried, and himself currently powerless. Barry seeks the aid of Batman, driving to Gotham City and entering a run-down Wayne Manor. He explores what turns out to be a small Batcave until he is attacked by Batman. Barry tries to explain who he is by saying he knows Batman is Bruce Wayne, only to find that in this reality, Batman is Thomas Wayne. While Barry is being beat up by Batman, he explains about his secret identity as the Flash and his relation to Bruce Wayne. Barry's memories spontaneously change and he realizes that the world of Flashpoint is not an alternate dimension, but his own. Barry uses his ring, which he uses to contain his Flash outfit, but the ring instead ejects Professor Zoom's costume. Barry tells Batman that Zoom is taunting him with it. Barry explains that both he and Zoom have the ability to alter time, leading Batman to ask him about how Bruce was to have lived in his place and if he can really change the world. Barry states that he needs his speed first. Later, Barry and Batman create an electric chair-like device to try and recreate the accident that gave him his speed; however, the first attempt meets with failure, leaving Barry severely burned.Barry awakes on an operating table in the Batcave and is covered in bandages and third degree burns. Despite Thomas' advice, Barry sits back down in the electric chair device. When lightning strikes a second time, Barry's super-speed returns, and he then saves the Batman from being impaled on a fence. Barry's injuries are healing rapidly due to his speed-enhanced regeneration. He also makes a new copy of his Flash costume. The Flash researches the incarnations of heroes of the DC timeline, believing that Zoom deliberately changed their lives to prevent the Flash from creating a Justice League, and learns of a rocket that crashed into Metropolis which carried the infant Superman, who instead of being raised in Kansas was taken in by the government. They then contact Cyborg for his help in sneaking into the government bunker of \"Project: Superman\" that is 'raising' Superman after his rocket destroyed Metropolis upon its arrival, only to be disappointed at Superman's frail appearance. They head towards Project: Superman's underground base via the sewer. The group comes across a giant vault door bearing the Superman logo. After they open the door, the three see a pale, weakened Kal-El. Despite his appearance, Barry says that no matter what, Superman will always be a good person. When the arrival of guards forces them to escape, Superman's powers begin to manifest and he flies off leaving them at the hands of the guards.While they fend off the guards, they are rescued by Element Woman. Barry's memories begin to change much more drastically, altering his past. He states that he is running out of time and soon he will not be able to restore the timeline to normal. After Barry is recovering, he asks the heroes to stop the Atlantean/Amazon war from creating more casualties, although the heroes are not willing to unless Batman wants to join them. Cyborg explains to him that they believe Batman was invincible. However, Barry convinces him that no one is invincible; the Marvel Family and Batman agree to join him. The heroes arrive at New Themyscira to stop the Atlantean/Amazon war, and appear to be winning until Enchantress reveals herself as the Amazon spy and uses her magic to separate the Marvel Family and restore them to their mortal forms. Penthesilea kills Billy Batson just as Professor Zoom reveals himself to Barry. Professor Zoom reveals to him that the \"Flashpoint\" timeline was actually created by Barry himself, after he traveled back in time to stop Zoom from killing his mother, but the timeline diverted into the near-apocalyptic world they find themselves in. He continues to taunt Barry with this knowledge, but is suddenly stabbed in the back by Batman wielding an Amazonian sword. Before Barry returns the timeline to normal, Batman thanks him for all he's done and gives him a letter addressed to his son. After this, Barry bids a farewell to his mother, knowing he must travel back in time to stop his younger self from altering time. Through the fusions of the time stream, Barry seemingly hears a voice explaining that the three timelines and worlds, need to become one again and would need his help to do this. After the ordeals, he visits the real Bruce Wayne and gives him the letter from his alternate father. Bruce is grateful to Barry of informing him of the events of the \"Flashpoint\" before the timeline was apparently returned to normal.\n",
      "\n",
      "\n",
      "=== The New 52 ===\n",
      "DC Comics relaunched The Flash with issue #1 in September 2011, with writing and art chores handled by Francis Manapul and Brian Buccellato as part of DC's company-wide title relaunch, The New 52. As with all of the books associated with the DC relaunch, Barry Allen appears to be about five years younger than the previous incarnation of the character. He gains his powers after getting frustrated and throwing a small machine at the window of his lab. The machine broke through the window, leaving a hole big enough for a bolt of lightning to charge through the hole and strike him.\n",
      "In the second issue of the new Justice League title (the first released comic series of the New 52 initiative and \"opening shot\" of the new DC Universe), Flash is called to assist Green Lantern and Batman in wrangling an out-of-control Superman, and later assists with the pursuit of an alien, revealed to be an agent of Darkseid. In this new continuity, Barry's marriage to Iris West never took place, and he is instead in a relationship with longtime co-worker Patty Spivot. In this new series, the Flash draws deeper into the Speed Force, enhancing his mental abilities while still trying to get a full grasp on his powers, which he does not yet exert total control over.\n",
      "As revealed in issue #0 of the current series, Barry Allen's father was placed in prison for the murder of his mother. The murder occurred shortly after Barry returned victorious from a school spelling bee, and Barry placed the trophy he won on his mother's grave in her memory. While the evidence seems to indicate his father's guilt, Barry makes proving his father's innocence a priority.\n",
      "Barry is also part of the main cast of the relaunched Justice League series, making his debut in the series' second issue. Following Convergence, Barry has a new suit in issue #41, which has a darker shade and features more streaks.\n",
      "\n",
      "\n",
      "=== DC Rebirth ===\n",
      "During DC Rebirth, Barry is no longer the only Flash. It is revealed that Wally West has been lost in the Speed Force for ten years, realizing during this time that Barry is not responsible of changing the timeline after the Flashpoint crisis, the unknown entity used Barry's time travelling as an opportunity to fundamentally alter reality. The fallout of the recent Darkseid War allowed Wally to try and reach out to his former friends in the hopes of either returning or warning them of the truth, but each attempt caused him to fall further into the Speed Force. After realizing not even Linda (his traditional \"lightning rod\") could remember him, Wally sank into desolation and chose to appear before Barry one last time to thank him for the life he had given him. Just before Wally disappeared, Barry remembered him and dragged him free of the Speed Force. Following a tearful reunion, Wally gave Barry his warning of the true source of the universal change and the dangers to come. Because of Wally, Barry is now aware that the timeline is not reset correctly after Flashpoint and thus another alternate timeline. However, he still cannot remember his pre-Flashpoint life, such as people like Jay Garrick, his long-last marriage with Iris and the details of his feuds with the Reverse-Flash / Eobard Thawne (who now remembers their pre-Flashpoint history), and remembers Wally from their new DC Rebirth timeline history. Despite being informed by Wally that another party is responsible, Barry remains in guilt over his mistakes, and seeks to find and stop them in hopes of making amends. Although the two decide to keep Wally's return secret from Iris based on Wally's own experience with Linda, Barry encourages him to return to the Titans, but also recommends that he don a new costume to reflect that he is the Flash rather than 'Kid Flash'. While Wally considers his options, Barry visits Batman to discuss the new evidence of some outside force attacking them, musing on how personal this assault appears, but despite the potential danger, Batman and Barry agree to keep their investigation to themselves until they know what they are up against. Later, when Eobard Thawne attacks Iris and Wallace, Iris had glimpses of her pre-Flashpoint life with Barry and learns his secrets as the Flash in the process. Barry then learned of their marriage in the other timeline as well. Knowing from Thawne that her entire life has been drastically altered and that Barry is indirectly responsible for it as the result of his time-traveling actions, Iris now distrusts Barry. To make matters worse for Barry, while he's entering the Negative Speed Force, he becomes the Negative-Flash which is more lethal than the original, and mostly dangerous to control.\n",
      "After gotten rid of the Negative Speed Force, he investigates with the death of Turbine, but thanks to Godspeed's help, he discovers that Captain Cold was the one who killed him because he seeks redemption. He visits Wally after defeating the Top, he discusses about him telling Iris that he's alive and existed. While he's rekindling his relationship with Iris, the city is being attacked by Gorilla Grodd and his organization the Black Hole where Grodd mind-controlled Meena Dhawan to be the group's Negative Flash.\n",
      "After defeating Grodd and getting Wally to meet Iris for the first time, they've been encountered by the Renegades. The Renegades take the Flashes and Iris back to the 25th century to get answers about why Iris killed Eobard Thawne, only to discover that Hunter Zolomon has been manipulating everyone as a plot to bring conflict between Barry and Wally for the fate of the Speed Force. After Wally defeated Hunter, Barry place him under watch at the Sanctuary while he's moving with his girlfriend Iris at her place after Wallace angrily left them. Barry begins searching for the other foer Hunter Zolomon arrives, powered with the Sage and Strength Force, claiming to be the \"one true Flash\". He defeats Barry and takes Steadfast away to claim the Still Force for himself. Black Flash also arrives and warns the defeated Barry not to interfere in his mission. Zolomon tortures Steadfast to give him the Still Force, but Steadfast resists. Finally a revived Barry tracks down Zolomon and tries to rescue Steadfast but Zolomon's power of other forces prove to much for him. Steadfast tries to use the Still Force to stop both the speedsters, but the plan backfires as Zolomon approaches and takes the Still Force. With the control of all the four forces, Zolomon enters the Forever Force taking Barrrces such as Sage Force and Strength Force after the Force Barrier's broken; he ends up discovering about the four forces conflicting for the control of the Forever Force. He manages to track down the Still Force user Steadfast and the Strength Force user Fuerza to bring them to his team after the Black Flash starts hunting the other force users to prevent them from using their powers as the other forces weaken and deplete the Speed Force. However the Sage Force user Psych refuses to join Barry's team only to be later tracked down and killed by the Black Flash. To safeguard the other force users Barry sends Fuerza and Commander Cold to the Strength Force and stays behind with Steadfast.\n",
      "\n",
      "\n",
      "== Powers and abilities ==\n",
      "Barry has the ability to run at super-human velocities. He was at times during the Silver Age described as faster than the speed of thought. The Flash #150, \"straining every muscle\", he ran at ten times the speed of light. However, when he pushed himself further (during the Crisis on Infinite Earths) he appeared to waste away as he was converted into pure energy, traveled back in time, and was revealed in Secret Origins Annual #2 to be the very bolt of lightning that gave him his powers. This was later retconned in The Flash: Rebirth #1, where Barry stated that he \"ran into the Speed Force\" and that, \"When he stopped the Anti-Monitor, when (he) ran into the \"Speed Force\" and joined it, it was like shedding (his) identity\". His speed allows him, in certain circumstances, to \"vibrate\" between dimensions. In Grant Morrison's Final Crisis, using the Speed Force, Allen was able to undo the effects of the Anti-Life Equation upon an individual: an ability he used on his wife Iris to free her from the bondage of Darkseid's mind control.Barry's speed has numerous secondary applications. He can use it to generate cyclones by spinning his arms quickly. Barry can also manipulate the electrical Speed Force energy he generates. He can channel the energy into arcs of lightning, as well as use the electricity to manipulate magnetism on a minor level. He has also used the lightning to create blinding amounts of light. By interlocking his lightning with that of another speedster, Barry can short circuit their connection to the Speed Force. Barry is also immune to telepathic attacks and control as he can shift his thoughts at a speed faster than normal thought. Through \"speed-reading\", he can absorb large amounts of information into his short-term memory, which remain in his mind just long enough for him to make use of it. Using this technique, Barry was able to learn enough about building work to rebuild a destroyed apartment building. The Speed Force also supplies Barry with a protective aura that shields him from friction and kinetic impacts, as well as grants him superhuman durability. Other aspects of Barry's powers include an enhanced metabolism, which grants him a regenerative healing factor. In the New 52, Barry learned that his body is using the Speed Force to its full extent but his brain was not. With the help of Dr. Elias he was able to learn how to use the Speed Force to process more information, and make even quicker decisions, to the point where he feels like he can see everything before it happens. Barry also developed the ability to speed up the flow of time around him, which he used to negate the powers of Zoom, who was able to slow down time. In terms of DC's internal lexicon, Barry is classified as a metahuman: a human being who possesses extranormal abilities either through birth or (as in Barry's case) as the result of some external event.\n",
      "\n",
      "\n",
      "== Rogues gallery ==\n",
      "\n",
      "Some of the Flash's enemies formed a loose association and referred to themselves as the Rogues, disdaining the use of the term \"supervillain\" or \"super-criminal\". These criminals typically have unusually modest goals for their power level (robbery or other petty crimes), and each have adopted a specific theme in his or her equipment and methods.\n",
      "\n",
      "\n",
      "== Other versions ==\n",
      "Barry Allen is a supporting character in Frank Miller's The Dark Knight Strikes Again. He has been kept by Lex Luthor as a power source for most of the East Coast, constantly running on a treadmill to provide cheap electrical power or else Iris will be executed. After being rescued, Barry wears a black version of his original Flash costume which Batman's young assistants deemed as \"old\"—\"Kids, these days, can't tell the difference between just plain old and classic\", he mutters. He then aids Batman and other heroes in restoring order, though they clash when Barry wants to save people in danger while Batman is prepared to let them die for the sake of his long-term strategy.\n",
      "Barry Allen appears in JLA: Age of Wonder as a scientist working with Superman and a consortium of early twentieth-century scientists such as Thomas Edison and Nikola Tesla. His uniform incorporates the Silver Age look with the Mercury-style helmet worn by Jay Garrick.\n",
      "In League of Justice, a High Fantasy story, Barry is recast as \"Phaeton\", who wears a mystical brooch resembling Flash's lightning-bolt chest emblem, and has bathed in dragon's blood in order to protect himself from speed friction.\n",
      "In Batman: Holy Terror, Barry is one of a number of metahumans imprisoned by a theocratic state, discovered and released by Batman during a raid on the government. He then shows Batman some of the attempts to recreate his powers in others, ranging from a man who cannot control his ability to vibrate to a woman whose brain operates at lightspeed while her body is still at normal speed or a man rapidly aging to death. While Barry and Batman are able to defeat the brainwashed Zatanna, Barry is then killed when his captor reveals that his research has included discovering how to deactivate the aura that protects Barry from being destroyed by the friction he generates while running.\n",
      "A version of Barry Allen aka Hot Pursuit appeared in the lead into Flashpoint. Little is known about the exact origins of Hot Pursuit, or how he came to be. The only thing known is the fact that he is a version of Barry Allen from the future, who goes back in time to warn himself about the upcoming events of Flashpoint. Hot Pursuit's history is assumed to be the same as Barry Allen's up until the single point in time, where a great anomaly altered the reality of the future all together. The unknown event that made Barry Allen don the role of Hot Pursuit is the same event he travels back in time to warn himself about, as well as the event that causes Flashpoint. With Flashpoint's widespread time-altering effects, it is possible that Barry Allen lost his connection to the Speed Force, thus needing the cosmic motorcycle Hot Pursuit is seen riding to access the Speed Force and travel back in time. This motorcycle also needs to be charged constantly with mass amounts of electricity in order for it to continue to be able to access the Speed Force, thus it is unable to naturally access the Speed Force like Barry Allen or the rest of the Flash Family.\n",
      "A story in the Marvel comic book series Quasar, written four years after Crisis on Infinite Earths, has the Marvel Universe speedsters facing off in a competition set up by a being called the Runner. The contest is a race from the Earth to the Moon. During the race, a surge of energy hits the track, leaving a being with blonde hair and dressed in the remains of a red outfit with yellow boots. This being has no memory, but an enormous desire to run. He goes on to win the race, passing Marvel speedsters such as Quicksilver and Speed Demon in the process. When asked what his name is, the man replies, \"I'm not sure. \"Buried Alien\"... Something like that.\" When asked how it felt to be the fastest man alive, he replied, \"It feels... right.\" The racer goes on to take the name Fast-Forward, disappearing into the universe in an attempt to help Makkari, who is stuck at hyper speed.\n",
      "In the Elseworlds tale Superman & Batman: Generations, Barry's life is still the same, but heroes age in real time. This reality shows no sign of the Crisis ever happening, so an elderly Barry is seen to be alive and well in 2008.\n",
      "The Elseworlds story Flashpoint shows an alternate reality where Barry Allen becomes the Flash in 1956, the year he first appeared in comics. He is more involved in government affairs. By 1963, he has ended the Cold War and pushed the communists out of Vietnam. However, his career is cut short as he takes a bullet aimed at John F. Kennedy. He is paralyzed from the neck down, but he still has the fastest mind on Earth and forms Allen Industries. By 1988, he and Vandal Savage's Immortality, Inc. have begun an exploration of Mars. In 1998, Wally West leads an expedition to Mars, during which he finds the flashpoint, an object which killed all life on Mars. Savage reveals he is the one who shot Allen. Barry makes contact with Wally, who is going on a super speed rampage. Barry is cured and defeats Savage. He then enters the flashpoint, going into the Speed Force.\n",
      "In The Flash Annual #7, an alternate universe is shown where shortly after Wally West became Kid Flash, he became a superstar celebrity. However, Barry was tragically killed while battling Captain Cold. Ten years later, Wally is now a paraplegic and Captain Cold has written a supposedly \"true\" story about Barry that paints him as arrogant and incompetent. Wally decides to make a movie about his mentor that portrays the genuine Barry Allen. The resulting film is a success.\n",
      "The Barry Allen of Earth-51, where secret identities are no longer needed by superheroes, is seen alive. He is subsequently killed by the Monitor of New Earth.\n",
      "In JLA: The Nail a version of Barry Allen is a member of a Justice League where Superman did not become a hero and join the team until much later. In lieu of Superboy's adventures with the Legion of Super-Heroes, the Flash visited the 30th Century instead. Barry Allen of The Nail is almost identical to the pre-Crisis Earth-1 version, except that his costume resembles Wally's. His most prominent scene in the story is a confrontation with Amazo where he manages to defeat the android by turning intangible and removing his computerized brain before Amazo can process and mimic that attack.\n",
      "In the prequel comic to Injustice: Gods Among Us Barry joins Superman's Regime in a more forceful approach to saving the world from crime. However, Barry remains one of the few (alongside Shazam) to maintain some sense of morality, as he is more prone to questioning some of Superman's more drastic actions in the Year One series. Though Batman tries to convince Barry of the Regime's negative influence, he chooses to stay with them, though still tries to convince Superman his more drastic actions will not go down well. In the game, Barry finally defects from the Regime after Superman murders Shazam for questioning his ethics. He joins the Insurgency and plays a critical role in stopping Superman's dictatorship. While he and the other Regime members are arrested, he is pardoned thanks to Batman vouching for him and given a job at Luthor/Wayne climate research. His superior, Doctor Randall, convinces Barry to become the Flash again to aid the heroes in stopping Brainiac's invasion.\n",
      "A version of Barry Allen is present through Dark Nights: Metal. This version hails from Earth-Minus-52 of the Dark Multiverse, where Batman became mad due to the deaths of his crimefighting sidekicks. Batman manages to absorb Barry's body, taking the Speed Force for himself and calling himself \"Red Death\"; however Barry's mind remains present in Bruce's body, pleading Bruce to stop his dark crusade. When Red Death is hit by the positive energy, Bruce dies, leaving Barry alive and in control of his body, with the costume changing its color from red to gold. Barry tries his best to help his counterpart from Earth-0. However, because Barry from Earth-Minus-52 is a \"creature of darkness\", the exposure to the positive energy starts to rip him apart, killing him almost instantly.\n",
      "\n",
      "\n",
      "== In other media ==\n",
      "\n",
      "\n",
      "=== Film ===\n",
      "\n",
      "\n",
      "==== DC Extended Universe ====\n",
      "\n",
      "Ezra Miller portrays Barry Allen/The Flash in the DCEU. Barry is a college student, working multiple jobs while trying to fund his search for evidence to clear his father's name. His suit is described as being created using the same material used on the hull of the space shuttle, although it is not clear how he acquired the resources to create it. By the end of the events of Justice League he has a job as a forensic scientist for the Central City police department.\n",
      "\n",
      "Barry first appears in Batman v Superman: Dawn of Justice (2016), where he arrives from the future through time travelling to warn Bruce Wayne / Batman of post-apocalyptic events and to form the Justice League. Additionally, there is a sequence where Barry stops a robbery, seen through security footage that Lex Luthor secretly possessed.\n",
      "Miller reprised their role in Suicide Squad (2016), in a flashback where Barry is shown apprehending George \"Digger\" Harkness / Captain Boomerang.\n",
      "Miller reprised the role in Justice League (2017), where Barry joins the titular team, after meeting and being recruited by Bruce Wayne/Batman. It is stated that his father is in prison for killing his mother despite the nine-year-old Barry's insistence that his father was innocent. When Bruce contacts Barry and offers him membership of the team, Barry accepts, also because of a conversation with his father forcing Barry to face the idea that he needs friends, but finds it hard to interact with other people because of his speed. However, he eventually become friends with Victor Stone, and the rest of the League all like Barry's jovial attitude including Batman, who is typically mercurial. During the events of the film the team fights Steppenwolf, preventing his Apokoliptian invasion, seemingly preventing the alternate-future events shown in Batman v Superman: Dawn of Justice. Also in this film Barry calls himself a \"hippie, long hair, very attractive Jewish boy\". In the director's cut of the film, he meets Iris West for the first time, and successfully goes back in time by several seconds to save the world. In the future, he's part of a team trying to undo Darkseid's conquest of Earth.\n",
      "Miller's version of the Flash is constantly alluded to in the film Shazam!, which also features a brief animated cameo in the film's credits.\n",
      "Miller reprised their role as Barry Allen for Part 4 of the Arrowverse's \"Crisis on Infinite Earths\" crossover alongside Grant Gustin's version of the same character during which he acquires the idea for \"The Flash\" name for himself from his alternate counterpart.\n",
      "Miller reprised their role in the season finale of Peacemaker.\n",
      "Miller will reprise their role as Barry Allen / The Flash in The Flash (2023).\n",
      "\n",
      "\n",
      "==== Animation ====\n",
      "Barry Allen appears in the DC Animated Movie Universe, voiced by Justin Chambers in Justice League: The Flashpoint Paradox, and later by Christopher Gorham, starting with Justice League: War until Justice League Dark: Apokolips War.\n",
      "Barry Allen appears in DC Super Heroes vs. Eagle Talon, voiced by Daisuke Namikawa.\n",
      "Barry Allen appears in the animated film Injustice, voiced by Yuri Lowenthal.\n",
      "Barry Allen appears in Teen Titans Go! & DC Super Hero Girls: Mayhem in the Multiverse with Phil LaMarr reprising his voice role from the 2019 reboot.\n",
      "\n",
      "\n",
      "=== Television ===\n",
      "\n",
      "\n",
      "==== Animation ====\n",
      "He had small adventures in the rotating series of superheroes cartoons included in The Superman/Aquaman Hour of Adventure, with Kid Flash. He also was a founding member of the Justice League of America along with Superman, Green Lantern, Hawkman, and the Atom.\n",
      "He also appeared in Super Friends to help fellow Justice Leaguer Superman. JLA members Flash, Green Lantern, and Batman eventually joined forces with Superman and the rest of the Super Friends in Super Friends, The All-New Super Friends Hour, Challenge of the Super Friends, Super Friends, and The Super Powers Team: Galactic Guardians where he was an important member of the super team.\n",
      "Barry Allen never officially appears in the DCAU series of animated projects by Bruce Timm and Paul Dini. He is referenced and mentioned in several episodes. A police detective in the Justice League episode \"The Brave and the Bold\" has a passing resemblance to Barry Allen, acting as the \"good cop\" during the Flash's interrogation. In the Justice League Unlimited episode \"Flash and Substance\", the Wally West Flash mentions his uncle \"flying in\" to attend the dedication of a Flash Museum. There is also another character in the same episode who is Wally's teacher at the forensic lab and bears a resemblance to Barry. Although the series' Flash is Wally West in name and likeness, he has many of Barry Allen's story elements, such as his origin, job, city, foes, and status as being the first scarlet speedster and co-founding the Justice League. In part 1 of the episode \"The Brave and the Bold\" when the Flash goes into a comatose state he has some strange dreams; in one he has gained so much weight that he is too fat to run, a homage to the Silver Age issue of The Flash #115, and in another he has a giant head, a nod to another Silver Age comic, The Flash #177.\n",
      "He made a cameo appearance in \"The Joining, Part Two\", the season 4 finale of The Batman. He also appeared in the season 5 episode \"A Mirror Darkly\", portrayed by voice actor Charlie Schlatter, who reprised his role as the Flash from Superman: The Animated Series. Producer Alan Burnett said that while Flash had no distinct identity in the episodes, he considered this particular Flash to be Barry Allen.\n",
      "Barry Allen is featured in Batman: The Brave and the Bold, voiced by Alan Tudyk. In \"Sidekicks Assemble!\", he made a cameo with the other Justice League members when an asteroid threatens Earth. In \"Requiem for a Scarlet Speedster!\", he was thought dead when he was pursuing Professor Zoom, only to be found in another time period which Zoom had conquered. With help from Jay Garrick, Kid Flash (Wally West), and Batman, he defeats Zoom and returns to his original time period. In a clip of \"four star spectacular!\", he saves Batman from Captain Boomerang, and tells him about an encounter he just had with Mirror Master and Abra Kadabra along the way.\n",
      "Barry Allen appears in the Young Justice animated series as a member of the JLA and Kid Flash's mentor. He is voiced by George Eads and later by James Arnold Taylor in \"Endgame\". He is shown wearing Wally's costume rather than his original Silver Age outfit. Issue #5 of the show's tie-in comic book reveals that rather than gaining his powers from a freak accident, Barry deliberately recreated the lab explosion that gave Jay Garrick his speed abilities back in the 1940s. Barry's death in Crisis on Infinite Earths is adapted and substituted with Wally's for the season 2 finale, as the three Flashes band together to deactivate a Reach device. Wally dies in a manner reminiscent of Barry's death battling the Anti-Monitor, and is referred to as casualty of an averted \"crisis\".\n",
      "Grant Gustin reprises his role from The CW's television series The Flash in the web series spin-off Vixen.\n",
      "He appears in DC Super Hero Girls voiced by Josh Keaton. He is a student at Super Hero High School.\n",
      "Barry Allen appears in Justice League Action with Charlie Schlatter reprising his role.\n",
      "Barry Allen appears in the Scooby-Doo and Guess Who? episode \"One Minute Mysteries!\" voiced again by Charlie Schlatter. He appears to have food with Shaggy Rogers and Scooby-Doo at Big Belly Burger where he considers them his fast food eating buddies. He teams up with Mystery Inc. where he quickly subdues the classic Scooby-Doo villains and locking them up at Iron Heights Penitentiary much to the dismay of Fred Jones, Daphne Blake, and Velma Dinkley. When it came to Fred, Daphne, and Velma getting captured by a giant teddy bear who demands that Flash unmasks himself, Shaggy and Scooby-Doo had to help rescue them as part of their diversion and defeat the giant teddy bear. The giant teddy bear is unmasked to be Trickster who Flash remands to Iron Heights Penitentiary. Afterwards, Barry meets up with Shaggy and Scooby-Doo at Big Belly Burger. While Barry still had his Flash mask on, Shaggy and Scooby-Doo assumed that he was being silly while claiming that he looks nothing like Flash. The three of them then eat some hamburgers.\n",
      "Barry Allen appears in DC Super Hero Girls (2019), voiced by Phil LaMarr. He attends Metropolis High School and is one of the best friends of Barbara Gordon. He is a member of The Invincibros and works at Sweet Justice.\n",
      "Barry Allen makes minor appearances in Harley Quinn, voiced by Scott Porter.\n",
      "\n",
      "\n",
      "==== Live-action ====\n",
      "Actor Rod Haase appeared as Barry Allen's Flash in 1979's two-part special, Legends of the Superheroes.\n",
      "The unsuccessful 1997 Justice League of America pilot featured actor Kenny Johnston as a 20-something, unemployed, Barry Allen.\n",
      "The fifth episode of season 4 of Smallville, entitled \"Run\", featured speedster Bart Allen as Impulse (played by Kyle Gallner). Bart is shown to be in possession of several fake I.D.-cards with the names \"Jay Garrick\", \"Barry Allen\" and \"Wally West\". In the season 11 storyline Haunted, Bart is revealed to have learned those names through his connection to the Speed Force, with the three being other existing speedsters.\n",
      "\n",
      "\n",
      "===== Arrowverse =====\n",
      "\n",
      "Barry Allen was the Flash in the 1990s Flash live-action TV series, although this character incorporated elements of Wally West's social life, as well as previously non-existent characters such as a brother and nephew. He was played by John Wesley Shipp. This version of the Flash reaches maximum speed upon breaking the sound barrier, at which point he has to stop to rest. CBS originally wanted to cast Jack Coleman, who declined the role to pursue a career in Broadway. As a police forensic scientist, Barry was working in the crime lab at the Central City Police Department headquarters when a lightning bolt struck his lab, dousing him in a combination of electricity and chemicals nearby. He discovered the accident gave him superhuman speed. With the help of S.T.A.R. Labs scientist Dr. Christina McGee, Barry learned how to control his powers with the help of a special prototype deep-sea diving suit. When Barry's older brother and police colleague Jay Allen was murdered by gang leader and Jay's former police partner Nicholas Pike, Barry wore a masked version of the suit and called himself the Flash. After capturing Pike, Barry sees his potentials of accomplishing some differences with his powers in a crime-ridden Central City, and started helping to bring other criminals to justice and provide hope to people as a masked superhero. Later, the Earth where this Flash lives is designated as Earth-90. Shipp also recurs as Earth-1's Barry Allen's (portrayed by Grant Gustin) father, Dr. Henry Allen, and Henry's Earth-3 equivalent Jay Garrick/The Flash in the 2014 television series. Shipp later reprises his role of 1990 television series for both crossovers \"Elseworlds\" and \"Crisis on Infinite Earths\", therefore like Garrick, this Flash is also Henry's doppelgänger.\n",
      "Barry Allen first appears in Arrow, played by Grant Gustin. In the episodes \"The Scientist\" and \"Three Ghosts\", Barry comes to Starling City to investigate a crime which may assist him in solving his mother's strange murder that occurred when he was 11 years old. He also hopes to meet his vigilante idol, the Arrow. Barry discovers that Oliver Queen is the Arrow after the archer's friends recruit him to save Oliver's life, and eventually he and Oliver become friends. Barry would later return after he becomes the Flash, in the crossover episodes \"The Brave and the Bold\", \"Legends of Yesterday\", and the second parts of \"Invasion!\", \"Crisis on Earth-X\", \"Elseworlds\" and \"Crisis on Infinite Earths\".\n",
      "Gustin as Allen is then spun off into his own The Flash series on the network. which premiered in Fall 2014. The series chronicles Barry's journey to become a hero in his own right once he gained superhuman speed after being struck by lightning during S.T.A.R. Labs' particle accelerator explosion. He fights to protect Central City from the escalating violence of metahuman criminals and occasionally teams with Oliver and other heroes. As the series unfolds, he encounters several nemeses: the future speedster Eobard Thawne/Reverse-Flash, the Earth-2 speedster Hunter Zolomon/Zoom, a rogue alternate timeline counterpart Savitar, the intellectual Clifford DeVoe/Thinker, and the serial killer Cicada. He gradually develops super-speed-related abilities such as vibrating through solid objects, temporarily absorbing knowledge through speed-reading, or traveling through time and parallel universes. Gustin reprised his role for a crossover with the television series Supergirl episodes \"Worlds Finest\" \"Medusa\", the first part of \"Crisis on Earth-X\", and the third part of \"Elseworlds\".Gustin also portrayed a non-metahuman Earth-2 doppelgänger of Barry Allen, and an evil alternate timeline future-time remnant who calls himself Savitar.\n",
      "Originally, Marc Guggenheim confirmed in an interview that Blitzkrieg of Freedom Fighters: The Ray is the Earth-X doppelgänger of Barry Allen. However, much of the concepts for Earth-X has changed since the interview and the animated series' production started, with characters such as Black Arrow and Dark Arrow becoming different despite the original intentions. As such, it is unclear whether this information is still relevant to the character Blitzkrieg. He is voiced by Scott Whyte and is an amalgamation of Baron Blitzkrieg, Baroness Blitzkrieg, Blitzen and Nazi Flash.\n",
      "The Arrowverse Earth-1/Prime Flash, the Earth-90 Flash and the DCEU Flash appeared in the Crisis on Infinite Earths crossover played by Grant Gustin, John Wesley Shipp and Ezra Miller respectively.\n",
      "\n",
      "\n",
      "==== Abandoned developments ====\n",
      "In February 2007 it was announced that Warner Bros hired husband and wife duo Michele and Kieran Mulroney to write a script for a Justice League film. George Miller signed to direct in September 2007. Titled Justice League Mortal, Adam Brody was cast as Barry Allen and the film nearly went into production, but the film was pushed back with Writers Guild Strike and the Australian Film Commission refusing to house filming over tax rebate disagreements.\n",
      "\n",
      "\n",
      "=== Video games ===\n",
      "Barry Allen is the Flash in the crossover video game Mortal Kombat vs. DC Universe, voiced by Taliesin Jaffe. He appears in a variant of his current costume. Although the character model contains green eyes, normally a sign of Wally West, as well as the dual lightning bolt belt (instead of Allen's single bolt belt), which is associated with West's, the game's \"Bios\" section confirms that it is indeed Allen. In Flash's ending, Flash discovers that he still has a psychic bond with Liu Kang following his aura attunement. The two agree to warn each other of any cross universal breaches. It is not long before Liu Kang warns Flash about the impending attack by Quan Chi.\n",
      "Barry Allen appears as the Flash in the MMOG DC Universe Online, voiced by Dwight Schultz. In the exclusive \"Who do you trust\" trailer, he appears to be taking an order from Batman, and runs upon being told. While running, he stops to see Hal Jordan about to get killed by Black Adam. He runs there to save Hal. Before he can, though, Black Adam sets off an explosion that kills Barry, Hal, and other heroes.\n",
      "Barry Allen was a playable character in the multiplayer battle arena game Infinite Crisis, voiced by Michael Rosenbaum.\n",
      "Barry Allen was a playable hero in mobile MOBA game that released by Tencent Games, Arena of Valor.\n",
      "Barry Allen appears as a playable character in DC Unchained.\n",
      "\n",
      "\n",
      "==== LEGO series ====\n",
      "Barry Allen appears a member of the Justice League in LEGO films Lego DC Comics Super Heroes: Justice League vs. Bizarro League, Lego DC Comics Super Heroes: Justice League – Attack of the Legion of Doom, Lego DC Comics Super Heroes: Justice League – Cosmic Clash, and Lego DC Comics Super Heroes: The Flash, voiced by James Arnold Taylor.\n",
      "Barry Allen appears a member of the Justice League in video games Lego Batman 2: DC Super Heroes, Lego Batman 3: Beyond Gotham and Lego Dimensions, voiced by Charlie Schlatter; he also appears in the Lego DC Super-Villains game, with the role reprised by Michael Rosenbaum.\n",
      "\n",
      "\n",
      "==== Injustice series ====\n",
      "Barry Allen is a playable character in Injustice: Gods Among Us, voiced by Neal McDonough. He is seen at the beginning taking part in a battle against Lex Luthor and his villain allies. In the alternate reality, Flash is one of the heroes serving in Superman's Regime, although he has doubts about Superman's true intentions. After Superman kills Shazam when the latter questions his plan to destroy Metropolis and Gotham City to show humanity that he is 'needed', the Flash realizes that the heroes have officially gone too far and defects to Batman's Insurgency. After the original Superman deposes the Regime, Barry surrenders himself due to his previous alliance with the Regime, but is assured by Green Arrow that his help in their defeat will be mentioned at the Regime's trial. In Flash's ending, he defeats Superman but is still overcome with guilt for his actions with the Regime and goes into exile. To make amends, he retakes his superhero mantle and begins fighting crime relentlessly in Central City where he is referred to as \"The Ghost\".\n",
      "He returns as a playable character in Injustice 2, now with Taliesin Jaffe reprising his role from MK vs DC. In the story, Flash has been pardoned from prison in recognition of his aid in deposing Superman's regime, and now seeks to make amends for his time as a regime member. In his playable chapter, Flash single-handedly defends Metropolis from Brainiac's initial attack and briefly comes to blows with Hal Jordan, who is trying to atone for his misdeeds as a Regime partisan, much like Flash himself. The two put their differences aside and join Batman's Insurgency. After Brainiac is defeated, he, Hal and Supergirl side with Batman on allowing Brainiac to live so the captured and lost cities could be restored. Flash attempts to stop an enraged Superman, who blames Barry for the Regime's weakened state because of his defection and losing his nerve, which Barry retorts by saying that he lost his nerve when he did not stand up to Clark the first time, but is easily defeated. In his arcade mode ending, Flash throws Brainiac into the end of time and enters the Speed Force, where he is reunited with other speedsters. Together, they set out to stop a crisis that threatens multiple universes.\n",
      "\n",
      "\n",
      "=== Music ===\n",
      "\"Ballad of Barry Allen\"—A song by the band Jim's Big Ego on their album, They're Everywhere. The song portrays Barry as a tragic character, whose perception of the world is so accelerated that all of reality appears to proceed at a snail's pace, causing him to gradually slip into depression. The band's frontman, Jim Infantino, is the nephew of Flash (Barry Allen) co-creator Carmine Infantino, who provided the cover art for the same album.\n",
      "\n",
      "\n",
      "== Reception ==\n",
      "IGN ranked Barry as the 49th greatest hero of all time stating that even in his 20-year absence, Barry's legacy as the greatest Flash of them all lived on.In 2013, Barry Allen placed 8th on IGN's Top 25 Heroes of DC Comics.\n",
      "\n",
      "\n",
      "== References ==\n",
      "\n",
      "\n",
      "== External links ==\n",
      "\n",
      "Flash (1956) at Don Markstein's Toonopedia, from the original on July 30, 2016.\n",
      "Kistler, Alan (January 11, 2006). \"Profile On: The Flash – Part 2\". MonitorDuty.com. Archived from the original on March 23, 2006.\n",
      "Arrowverse entry for The Flash Archived 2018-05-24 at the Wayback Machine \n",
      "\n"
     ]
    }
   ],
   "source": [
    "R = w.search(\"Flash (Barry Allen)\")\n",
    "page = w.page(R[0])\n",
    "title = page.title\n",
    "content = page.content\n",
    "print(\"Page title : \", title, \"\\n\")\n",
    "print(\"Page content : \", content, \"\\n\")"
   ]
  },
  {
   "cell_type": "code",
   "execution_count": null,
   "id": "b4bcaf6b",
   "metadata": {},
   "outputs": [],
   "source": []
  }
 ],
 "metadata": {
  "kernelspec": {
   "display_name": "Python 3 (ipykernel)",
   "language": "python",
   "name": "python3"
  },
  "language_info": {
   "codemirror_mode": {
    "name": "ipython",
    "version": 3
   },
   "file_extension": ".py",
   "mimetype": "text/x-python",
   "name": "python",
   "nbconvert_exporter": "python",
   "pygments_lexer": "ipython3",
   "version": "3.8.8"
  }
 },
 "nbformat": 4,
 "nbformat_minor": 5
}
