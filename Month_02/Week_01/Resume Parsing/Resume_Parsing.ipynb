{
 "cells": [
  {
   "cell_type": "markdown",
   "id": "c713680b",
   "metadata": {},
   "source": [
    "## Importing Libraries "
   ]
  },
  {
   "cell_type": "code",
   "execution_count": 1,
   "id": "3b16eff0",
   "metadata": {},
   "outputs": [],
   "source": [
    "import spacy\n",
    "import pdfminer\n",
    "import re\n",
    "import os\n",
    "import pandas as pd\n",
    "import pdf2txt"
   ]
  },
  {
   "cell_type": "markdown",
   "id": "e9ea6ab7",
   "metadata": {},
   "source": [
    "## Load the Language Model"
   ]
  },
  {
   "cell_type": "code",
   "execution_count": 2,
   "id": "497a7171",
   "metadata": {},
   "outputs": [],
   "source": [
    "nlp = spacy.load(\"en_core_web_sm\")"
   ]
  },
  {
   "cell_type": "markdown",
   "id": "d66751a1",
   "metadata": {},
   "source": [
    "## Making a function to read pdf files(converting pdf to text file)"
   ]
  },
  {
   "cell_type": "code",
   "execution_count": 3,
   "id": "f18c5af5",
   "metadata": {},
   "outputs": [],
   "source": [
    "def convert_pdf(f):\n",
    "    output_filename = os.path.basename(os.path.splitext(f)[0]) + \".txt\"\n",
    "    output_filepath = os.path.join(\"output/txt/\", output_filename)\n",
    "    pdf2txt.main(args=[f, \"--outfile\", output_filepath])\n",
    "    print(output_filepath + \" saved successfully!!!\")\n",
    "    return open(output_filepath).read()"
   ]
  },
  {
   "cell_type": "code",
   "execution_count": 4,
   "id": "8d495f53",
   "metadata": {},
   "outputs": [],
   "source": [
    "result_dict = {'name': [], 'phone': [], 'email': [], 'skills': []} \n",
    "names = []\n",
    "phones = []\n",
    "emails = []\n",
    "skills = []"
   ]
  },
  {
   "cell_type": "markdown",
   "id": "64b00895",
   "metadata": {},
   "source": [
    "## Extracting all the pdf text data"
   ]
  },
  {
   "cell_type": "code",
   "execution_count": 5,
   "id": "603ae765",
   "metadata": {},
   "outputs": [],
   "source": [
    "def parse_content(text):\n",
    "    skillset = re.compile(\"python|java|sql|hadoop|tableau\")\n",
    "    phone_num = re.compile(\n",
    "        \"(\\d{3}[-\\.\\s]??\\d{3}[-\\.\\s]??\\d{4}|\\(\\d{3}\\)\\s*\\d{3}[-\\.\\s]??\\d{4}|\\d{3}[-\\.\\s]??\\d{4})\"\n",
    "    )\n",
    "    doc = nlp(text)\n",
    "    name = [entity.text for entity in doc.ents if entity.label_ == \"PERSON\"][0]\n",
    "    print(name)\n",
    "    email = [word for word in doc if word.like_email == True][0]\n",
    "    print(email)\n",
    "    phone = str(re.findall(phone_num, text.lower()))\n",
    "    skills_list = re.findall(skillset, text.lower())\n",
    "    unique_skills_list = str(set(skills_list))\n",
    "    names.append(name)\n",
    "    emails.append(email)\n",
    "    phones.append(phone)\n",
    "    skills.append(unique_skills_list)\n",
    "    print(\"Extraction completed successfully!!!\")"
   ]
  },
  {
   "cell_type": "markdown",
   "id": "333d3ab1",
   "metadata": {},
   "source": [
    "## Creating and writing the scraped data from pdf"
   ]
  },
  {
   "cell_type": "code",
   "execution_count": 6,
   "id": "1be0e6b6",
   "metadata": {},
   "outputs": [
    {
     "name": "stdout",
     "output_type": "stream",
     "text": [
      "Reading.....Alisson ParkerCV.pdf\n",
      "output/txt/Alisson ParkerCV.txt saved successfully!!!\n",
      "Alisson Parker-Wright                                                                                                 10/10/1974 \n",
      "\n",
      "223\n",
      "alli1414parks@mail.com\n",
      "Extraction completed successfully!!!\n",
      "Reading.....Angelica Astrom.pdf\n",
      "output/txt/Angelica Astrom.txt saved successfully!!!\n",
      "Fill\n",
      "someone@example.com\n",
      "Extraction completed successfully!!!\n",
      "Reading.....AshleyMilesCV (1).pdf\n",
      "output/txt/AshleyMilesCV (1).txt saved successfully!!!\n",
      "Ashley Miles\n",
      "ashleymiles@memail.com\n",
      "Extraction completed successfully!!!\n",
      "Reading.....AshleyMilesCV.pdf\n",
      "output/txt/AshleyMilesCV.txt saved successfully!!!\n",
      "Ashley Miles\n",
      "ashleymiles@memail.com\n",
      "Extraction completed successfully!!!\n",
      "Reading.....John DominicCV.pdf\n",
      "output/txt/John DominicCV.txt saved successfully!!!\n",
      "John Dominic\n",
      "johndominic@mail.com\n",
      "Extraction completed successfully!!!\n"
     ]
    }
   ],
   "source": [
    "for file in os.listdir('resumes/'):\n",
    "    if file.endswith('.pdf'):\n",
    "        print('Reading.....' + file)\n",
    "        txt = convert_pdf(os.path.join('resumes/',file))\n",
    "        parse_content(txt)"
   ]
  },
  {
   "cell_type": "code",
   "execution_count": 7,
   "id": "a8714537",
   "metadata": {},
   "outputs": [
    {
     "data": {
      "text/plain": [
       "['Alisson Parker-Wright                                                                                                 10/10/1974 \\n\\n223',\n",
       " 'Fill',\n",
       " 'Ashley Miles',\n",
       " 'Ashley Miles',\n",
       " 'John Dominic']"
      ]
     },
     "execution_count": 7,
     "metadata": {},
     "output_type": "execute_result"
    }
   ],
   "source": [
    "names"
   ]
  },
  {
   "cell_type": "code",
   "execution_count": 8,
   "id": "52e5daf5",
   "metadata": {},
   "outputs": [
    {
     "data": {
      "text/plain": [
       "[\"['8569878511']\",\n",
       " \"['(212) 555-1234']\",\n",
       " \"['6592251422']\",\n",
       " \"['6592251422']\",\n",
       " \"['7877756411']\"]"
      ]
     },
     "execution_count": 8,
     "metadata": {},
     "output_type": "execute_result"
    }
   ],
   "source": [
    "phones"
   ]
  },
  {
   "cell_type": "code",
   "execution_count": 9,
   "id": "54817a6c",
   "metadata": {},
   "outputs": [
    {
     "data": {
      "text/plain": [
       "[alli1414parks@mail.com,\n",
       " someone@example.com,\n",
       " ashleymiles@memail.com,\n",
       " ashleymiles@memail.com,\n",
       " johndominic@mail.com]"
      ]
     },
     "execution_count": 9,
     "metadata": {},
     "output_type": "execute_result"
    }
   ],
   "source": [
    "emails"
   ]
  },
  {
   "cell_type": "code",
   "execution_count": 10,
   "id": "fe7606cb",
   "metadata": {},
   "outputs": [
    {
     "data": {
      "text/plain": [
       "[\"{'java', 'tableau', 'python'}\",\n",
       " 'set()',\n",
       " \"{'sql', 'tableau'}\",\n",
       " \"{'sql', 'tableau'}\",\n",
       " \"{'hadoop', 'java', 'python'}\"]"
      ]
     },
     "execution_count": 10,
     "metadata": {},
     "output_type": "execute_result"
    }
   ],
   "source": [
    "skills"
   ]
  },
  {
   "cell_type": "markdown",
   "id": "4b84988a",
   "metadata": {},
   "source": [
    "## Creating Dataframes"
   ]
  },
  {
   "cell_type": "code",
   "execution_count": 11,
   "id": "706f3936",
   "metadata": {},
   "outputs": [],
   "source": [
    "result_dict['name'] = names\n",
    "result_dict['phone'] = phones\n",
    "result_dict['email'] = emails\n",
    "result_dict['skills'] = skills"
   ]
  },
  {
   "cell_type": "code",
   "execution_count": 12,
   "id": "44bf992b",
   "metadata": {},
   "outputs": [
    {
     "data": {
      "text/plain": [
       "{'name': ['Alisson Parker-Wright                                                                                                 10/10/1974 \\n\\n223',\n",
       "  'Fill',\n",
       "  'Ashley Miles',\n",
       "  'Ashley Miles',\n",
       "  'John Dominic'],\n",
       " 'phone': [\"['8569878511']\",\n",
       "  \"['(212) 555-1234']\",\n",
       "  \"['6592251422']\",\n",
       "  \"['6592251422']\",\n",
       "  \"['7877756411']\"],\n",
       " 'email': [alli1414parks@mail.com,\n",
       "  someone@example.com,\n",
       "  ashleymiles@memail.com,\n",
       "  ashleymiles@memail.com,\n",
       "  johndominic@mail.com],\n",
       " 'skills': [\"{'java', 'tableau', 'python'}\",\n",
       "  'set()',\n",
       "  \"{'sql', 'tableau'}\",\n",
       "  \"{'sql', 'tableau'}\",\n",
       "  \"{'hadoop', 'java', 'python'}\"]}"
      ]
     },
     "execution_count": 12,
     "metadata": {},
     "output_type": "execute_result"
    }
   ],
   "source": [
    "result_dict"
   ]
  },
  {
   "cell_type": "code",
   "execution_count": 13,
   "id": "7ff7acdb",
   "metadata": {},
   "outputs": [
    {
     "data": {
      "text/html": [
       "<div>\n",
       "<style scoped>\n",
       "    .dataframe tbody tr th:only-of-type {\n",
       "        vertical-align: middle;\n",
       "    }\n",
       "\n",
       "    .dataframe tbody tr th {\n",
       "        vertical-align: top;\n",
       "    }\n",
       "\n",
       "    .dataframe thead th {\n",
       "        text-align: right;\n",
       "    }\n",
       "</style>\n",
       "<table border=\"1\" class=\"dataframe\">\n",
       "  <thead>\n",
       "    <tr style=\"text-align: right;\">\n",
       "      <th></th>\n",
       "      <th>name</th>\n",
       "      <th>phone</th>\n",
       "      <th>email</th>\n",
       "      <th>skills</th>\n",
       "    </tr>\n",
       "  </thead>\n",
       "  <tbody>\n",
       "    <tr>\n",
       "      <th>0</th>\n",
       "      <td>Alisson Parker-Wright                         ...</td>\n",
       "      <td>['8569878511']</td>\n",
       "      <td>alli1414parks@mail.com</td>\n",
       "      <td>{'java', 'tableau', 'python'}</td>\n",
       "    </tr>\n",
       "    <tr>\n",
       "      <th>1</th>\n",
       "      <td>Fill</td>\n",
       "      <td>['(212) 555-1234']</td>\n",
       "      <td>someone@example.com</td>\n",
       "      <td>set()</td>\n",
       "    </tr>\n",
       "    <tr>\n",
       "      <th>2</th>\n",
       "      <td>Ashley Miles</td>\n",
       "      <td>['6592251422']</td>\n",
       "      <td>ashleymiles@memail.com</td>\n",
       "      <td>{'sql', 'tableau'}</td>\n",
       "    </tr>\n",
       "    <tr>\n",
       "      <th>3</th>\n",
       "      <td>Ashley Miles</td>\n",
       "      <td>['6592251422']</td>\n",
       "      <td>ashleymiles@memail.com</td>\n",
       "      <td>{'sql', 'tableau'}</td>\n",
       "    </tr>\n",
       "    <tr>\n",
       "      <th>4</th>\n",
       "      <td>John Dominic</td>\n",
       "      <td>['7877756411']</td>\n",
       "      <td>johndominic@mail.com</td>\n",
       "      <td>{'hadoop', 'java', 'python'}</td>\n",
       "    </tr>\n",
       "  </tbody>\n",
       "</table>\n",
       "</div>"
      ],
      "text/plain": [
       "                                                name               phone  \\\n",
       "0  Alisson Parker-Wright                         ...      ['8569878511']   \n",
       "1                                               Fill  ['(212) 555-1234']   \n",
       "2                                       Ashley Miles      ['6592251422']   \n",
       "3                                       Ashley Miles      ['6592251422']   \n",
       "4                                       John Dominic      ['7877756411']   \n",
       "\n",
       "                    email                         skills  \n",
       "0  alli1414parks@mail.com  {'java', 'tableau', 'python'}  \n",
       "1     someone@example.com                          set()  \n",
       "2  ashleymiles@memail.com             {'sql', 'tableau'}  \n",
       "3  ashleymiles@memail.com             {'sql', 'tableau'}  \n",
       "4    johndominic@mail.com   {'hadoop', 'java', 'python'}  "
      ]
     },
     "execution_count": 13,
     "metadata": {},
     "output_type": "execute_result"
    }
   ],
   "source": [
    "result_df = pd.DataFrame(result_dict)\n",
    "result_df"
   ]
  },
  {
   "cell_type": "markdown",
   "id": "02d60745",
   "metadata": {},
   "source": [
    "## Creating a CSV file"
   ]
  },
  {
   "cell_type": "code",
   "execution_count": 14,
   "id": "d20d10e4",
   "metadata": {},
   "outputs": [],
   "source": [
    "result_df.to_csv(\"Parsed_Data.csv\")"
   ]
  },
  {
   "cell_type": "markdown",
   "id": "c72adab4",
   "metadata": {},
   "source": [
    "## Reading created CSV file"
   ]
  },
  {
   "cell_type": "code",
   "execution_count": 15,
   "id": "4ba7dd18",
   "metadata": {},
   "outputs": [
    {
     "data": {
      "text/html": [
       "<div>\n",
       "<style scoped>\n",
       "    .dataframe tbody tr th:only-of-type {\n",
       "        vertical-align: middle;\n",
       "    }\n",
       "\n",
       "    .dataframe tbody tr th {\n",
       "        vertical-align: top;\n",
       "    }\n",
       "\n",
       "    .dataframe thead th {\n",
       "        text-align: right;\n",
       "    }\n",
       "</style>\n",
       "<table border=\"1\" class=\"dataframe\">\n",
       "  <thead>\n",
       "    <tr style=\"text-align: right;\">\n",
       "      <th></th>\n",
       "      <th>Unnamed: 0</th>\n",
       "      <th>name</th>\n",
       "      <th>phone</th>\n",
       "      <th>email</th>\n",
       "      <th>skills</th>\n",
       "    </tr>\n",
       "  </thead>\n",
       "  <tbody>\n",
       "    <tr>\n",
       "      <th>0</th>\n",
       "      <td>0</td>\n",
       "      <td>Alisson Parker-Wright                         ...</td>\n",
       "      <td>['8569878511']</td>\n",
       "      <td>alli1414parks@mail.com</td>\n",
       "      <td>{'java', 'tableau', 'python'}</td>\n",
       "    </tr>\n",
       "    <tr>\n",
       "      <th>1</th>\n",
       "      <td>1</td>\n",
       "      <td>Fill</td>\n",
       "      <td>['(212) 555-1234']</td>\n",
       "      <td>someone@example.com</td>\n",
       "      <td>set()</td>\n",
       "    </tr>\n",
       "    <tr>\n",
       "      <th>2</th>\n",
       "      <td>2</td>\n",
       "      <td>Ashley Miles</td>\n",
       "      <td>['6592251422']</td>\n",
       "      <td>ashleymiles@memail.com</td>\n",
       "      <td>{'sql', 'tableau'}</td>\n",
       "    </tr>\n",
       "    <tr>\n",
       "      <th>3</th>\n",
       "      <td>3</td>\n",
       "      <td>Ashley Miles</td>\n",
       "      <td>['6592251422']</td>\n",
       "      <td>ashleymiles@memail.com</td>\n",
       "      <td>{'sql', 'tableau'}</td>\n",
       "    </tr>\n",
       "    <tr>\n",
       "      <th>4</th>\n",
       "      <td>4</td>\n",
       "      <td>John Dominic</td>\n",
       "      <td>['7877756411']</td>\n",
       "      <td>johndominic@mail.com</td>\n",
       "      <td>{'hadoop', 'java', 'python'}</td>\n",
       "    </tr>\n",
       "  </tbody>\n",
       "</table>\n",
       "</div>"
      ],
      "text/plain": [
       "   Unnamed: 0                                               name  \\\n",
       "0           0  Alisson Parker-Wright                         ...   \n",
       "1           1                                               Fill   \n",
       "2           2                                       Ashley Miles   \n",
       "3           3                                       Ashley Miles   \n",
       "4           4                                       John Dominic   \n",
       "\n",
       "                phone                   email                         skills  \n",
       "0      ['8569878511']  alli1414parks@mail.com  {'java', 'tableau', 'python'}  \n",
       "1  ['(212) 555-1234']     someone@example.com                          set()  \n",
       "2      ['6592251422']  ashleymiles@memail.com             {'sql', 'tableau'}  \n",
       "3      ['6592251422']  ashleymiles@memail.com             {'sql', 'tableau'}  \n",
       "4      ['7877756411']    johndominic@mail.com   {'hadoop', 'java', 'python'}  "
      ]
     },
     "execution_count": 15,
     "metadata": {},
     "output_type": "execute_result"
    }
   ],
   "source": [
    "df = pd.read_csv(\"Parsed_Data.csv\")\n",
    "df"
   ]
  },
  {
   "cell_type": "code",
   "execution_count": null,
   "id": "07fee6fa",
   "metadata": {},
   "outputs": [],
   "source": []
  }
 ],
 "metadata": {
  "kernelspec": {
   "display_name": "Python 3 (ipykernel)",
   "language": "python",
   "name": "python3"
  },
  "language_info": {
   "codemirror_mode": {
    "name": "ipython",
    "version": 3
   },
   "file_extension": ".py",
   "mimetype": "text/x-python",
   "name": "python",
   "nbconvert_exporter": "python",
   "pygments_lexer": "ipython3",
   "version": "3.8.8"
  }
 },
 "nbformat": 4,
 "nbformat_minor": 5
}
