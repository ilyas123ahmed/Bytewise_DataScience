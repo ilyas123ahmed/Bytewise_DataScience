{
 "cells": [
  {
   "cell_type": "markdown",
   "id": "bb20064f",
   "metadata": {},
   "source": [
    "   ## Importing libraries for extracting data, framing the data in excel/csv format or importing seaborn library to visualize the data. "
   ]
  },
  {
   "cell_type": "code",
   "execution_count": 36,
   "id": "90ba83d7",
   "metadata": {},
   "outputs": [],
   "source": [
    "import camelot as cm\n",
    "import seaborn as sns\n",
    "from matplotlib import pyplot as plt"
   ]
  },
  {
   "cell_type": "markdown",
   "id": "43ace9d6",
   "metadata": {},
   "source": [
    "### Giving path of pdf file"
   ]
  },
  {
   "cell_type": "code",
   "execution_count": 2,
   "id": "3bbc9d72",
   "metadata": {},
   "outputs": [
    {
     "name": "stderr",
     "output_type": "stream",
     "text": [
      "Overwriting cache for 0 71\n",
      "Overwriting cache for 0 71\n",
      "Overwriting cache for 0 71\n"
     ]
    }
   ],
   "source": [
    "tables_DF = cm.read_pdf(\"india_factsheet_economic_n_hdi.pdf\",flavor='lattice',pages='1,2')"
   ]
  },
  {
   "cell_type": "markdown",
   "id": "0d93320f",
   "metadata": {},
   "source": [
    "### Giving url of the pdf file"
   ]
  },
  {
   "cell_type": "code",
   "execution_count": 3,
   "id": "2c7cfc4e",
   "metadata": {},
   "outputs": [],
   "source": [
    "#input_pdf = cm.read_pdf(\"https://www.undp.org/content/dam/india/docs/india_factsheet_economic_n_hdi.pdf\",flavor='stream')"
   ]
  },
  {
   "cell_type": "code",
   "execution_count": 4,
   "id": "db7f4c1c",
   "metadata": {},
   "outputs": [
    {
     "data": {
      "text/plain": [
       "('stream', 'lattice')"
      ]
     },
     "execution_count": 4,
     "metadata": {},
     "output_type": "execute_result"
    }
   ],
   "source": [
    "\"stream\", \"lattice\""
   ]
  },
  {
   "cell_type": "code",
   "execution_count": 5,
   "id": "52c076f7",
   "metadata": {},
   "outputs": [
    {
     "data": {
      "text/plain": [
       "<TableList n=4>"
      ]
     },
     "execution_count": 5,
     "metadata": {},
     "output_type": "execute_result"
    }
   ],
   "source": [
    "tables_DF"
   ]
  },
  {
   "cell_type": "code",
   "execution_count": 6,
   "id": "818347d4",
   "metadata": {},
   "outputs": [
    {
     "name": "stdout",
     "output_type": "stream",
     "text": [
      "<Table shape=(4, 3)>\n",
      "<Table shape=(15, 3)>\n",
      "<Table shape=(14, 4)>\n",
      "<Table shape=(13, 3)>\n"
     ]
    }
   ],
   "source": [
    "for n in tables_DF:\n",
    "    print(n)"
   ]
  },
  {
   "cell_type": "code",
   "execution_count": 7,
   "id": "c2c09898",
   "metadata": {},
   "outputs": [
    {
     "data": {
      "text/html": [
       "<div>\n",
       "<style scoped>\n",
       "    .dataframe tbody tr th:only-of-type {\n",
       "        vertical-align: middle;\n",
       "    }\n",
       "\n",
       "    .dataframe tbody tr th {\n",
       "        vertical-align: top;\n",
       "    }\n",
       "\n",
       "    .dataframe thead th {\n",
       "        text-align: right;\n",
       "    }\n",
       "</style>\n",
       "<table border=\"1\" class=\"dataframe\">\n",
       "  <thead>\n",
       "    <tr style=\"text-align: right;\">\n",
       "      <th></th>\n",
       "      <th>0</th>\n",
       "      <th>1</th>\n",
       "      <th>2</th>\n",
       "      <th>3</th>\n",
       "    </tr>\n",
       "  </thead>\n",
       "  <tbody>\n",
       "    <tr>\n",
       "      <th>0</th>\n",
       "      <td>Human Development Indicators</td>\n",
       "      <td></td>\n",
       "      <td>2000</td>\n",
       "      <td>2011</td>\n",
       "    </tr>\n",
       "    <tr>\n",
       "      <th>1</th>\n",
       "      <td>13</td>\n",
       "      <td>Human Development Index Value (HDI)</td>\n",
       "      <td>0.461</td>\n",
       "      <td>0.547</td>\n",
       "    </tr>\n",
       "    <tr>\n",
       "      <th>2</th>\n",
       "      <td>14</td>\n",
       "      <td>HDI Rank (out of 187)</td>\n",
       "      <td></td>\n",
       "      <td>134</td>\n",
       "    </tr>\n",
       "    <tr>\n",
       "      <th>3</th>\n",
       "      <td>15</td>\n",
       "      <td>Inequality Adjusted Human Development Index Value</td>\n",
       "      <td></td>\n",
       "      <td>0.392</td>\n",
       "    </tr>\n",
       "    <tr>\n",
       "      <th>4</th>\n",
       "      <td>16</td>\n",
       "      <td>Loss in HDI due to Inequalities (%)</td>\n",
       "      <td></td>\n",
       "      <td>28.7</td>\n",
       "    </tr>\n",
       "    <tr>\n",
       "      <th>5</th>\n",
       "      <td></td>\n",
       "      <td></td>\n",
       "      <td>2001</td>\n",
       "      <td>2011</td>\n",
       "    </tr>\n",
       "    <tr>\n",
       "      <th>6</th>\n",
       "      <td>17</td>\n",
       "      <td>Gender Inequality Index (GII)</td>\n",
       "      <td>0.5531</td>\n",
       "      <td>0.617</td>\n",
       "    </tr>\n",
       "    <tr>\n",
       "      <th>7</th>\n",
       "      <td>18</td>\n",
       "      <td>GII Rank (out of 146)</td>\n",
       "      <td></td>\n",
       "      <td>129</td>\n",
       "    </tr>\n",
       "    <tr>\n",
       "      <th>8</th>\n",
       "      <td></td>\n",
       "      <td></td>\n",
       "      <td>1996</td>\n",
       "      <td>2006</td>\n",
       "    </tr>\n",
       "    <tr>\n",
       "      <th>9</th>\n",
       "      <td>19</td>\n",
       "      <td>Gender Empowerment Measure (GEM)</td>\n",
       "      <td>0.416</td>\n",
       "      <td>0.497</td>\n",
       "    </tr>\n",
       "    <tr>\n",
       "      <th>10</th>\n",
       "      <td></td>\n",
       "      <td></td>\n",
       "      <td>2001</td>\n",
       "      <td>2011</td>\n",
       "    </tr>\n",
       "    <tr>\n",
       "      <th>11</th>\n",
       "      <td>20</td>\n",
       "      <td>Literacy Rate (%)</td>\n",
       "      <td>64.8</td>\n",
       "      <td>74.04</td>\n",
       "    </tr>\n",
       "    <tr>\n",
       "      <th>12</th>\n",
       "      <td>21</td>\n",
       "      <td>Male Literacy Rate (%)</td>\n",
       "      <td>75.3</td>\n",
       "      <td>82.14</td>\n",
       "    </tr>\n",
       "    <tr>\n",
       "      <th>13</th>\n",
       "      <td>22</td>\n",
       "      <td>Female Literacy Rate (%)</td>\n",
       "      <td>53.7</td>\n",
       "      <td>65.46</td>\n",
       "    </tr>\n",
       "  </tbody>\n",
       "</table>\n",
       "</div>"
      ],
      "text/plain": [
       "                               0  \\\n",
       "0   Human Development Indicators   \n",
       "1                             13   \n",
       "2                             14   \n",
       "3                             15   \n",
       "4                             16   \n",
       "5                                  \n",
       "6                             17   \n",
       "7                             18   \n",
       "8                                  \n",
       "9                             19   \n",
       "10                                 \n",
       "11                            20   \n",
       "12                            21   \n",
       "13                            22   \n",
       "\n",
       "                                                    1       2      3  \n",
       "0                                                        2000   2011  \n",
       "1                 Human Development Index Value (HDI)   0.461  0.547  \n",
       "2                               HDI Rank (out of 187)            134  \n",
       "3   Inequality Adjusted Human Development Index Value          0.392  \n",
       "4                 Loss in HDI due to Inequalities (%)           28.7  \n",
       "5                                                        2001   2011  \n",
       "6                       Gender Inequality Index (GII)  0.5531  0.617  \n",
       "7                               GII Rank (out of 146)            129  \n",
       "8                                                        1996   2006  \n",
       "9                    Gender Empowerment Measure (GEM)   0.416  0.497  \n",
       "10                                                       2001   2011  \n",
       "11                                  Literacy Rate (%)    64.8  74.04  \n",
       "12                             Male Literacy Rate (%)    75.3  82.14  \n",
       "13                           Female Literacy Rate (%)    53.7  65.46  "
      ]
     },
     "execution_count": 7,
     "metadata": {},
     "output_type": "execute_result"
    }
   ],
   "source": [
    "tables_DF[2].df"
   ]
  },
  {
   "cell_type": "code",
   "execution_count": 8,
   "id": "2f0d44f7",
   "metadata": {},
   "outputs": [
    {
     "data": {
      "text/html": [
       "<div>\n",
       "<style scoped>\n",
       "    .dataframe tbody tr th:only-of-type {\n",
       "        vertical-align: middle;\n",
       "    }\n",
       "\n",
       "    .dataframe tbody tr th {\n",
       "        vertical-align: top;\n",
       "    }\n",
       "\n",
       "    .dataframe thead th {\n",
       "        text-align: right;\n",
       "    }\n",
       "</style>\n",
       "<table border=\"1\" class=\"dataframe\">\n",
       "  <thead>\n",
       "    <tr style=\"text-align: right;\">\n",
       "      <th></th>\n",
       "      <th>1</th>\n",
       "      <th>2</th>\n",
       "      <th>3</th>\n",
       "    </tr>\n",
       "  </thead>\n",
       "  <tbody>\n",
       "    <tr>\n",
       "      <th>9</th>\n",
       "      <td>Gender Empowerment Measure (GEM)</td>\n",
       "      <td>0.416</td>\n",
       "      <td>0.497</td>\n",
       "    </tr>\n",
       "    <tr>\n",
       "      <th>10</th>\n",
       "      <td></td>\n",
       "      <td>2001</td>\n",
       "      <td>2011</td>\n",
       "    </tr>\n",
       "    <tr>\n",
       "      <th>11</th>\n",
       "      <td>Literacy Rate (%)</td>\n",
       "      <td>64.8</td>\n",
       "      <td>74.04</td>\n",
       "    </tr>\n",
       "    <tr>\n",
       "      <th>12</th>\n",
       "      <td>Male Literacy Rate (%)</td>\n",
       "      <td>75.3</td>\n",
       "      <td>82.14</td>\n",
       "    </tr>\n",
       "    <tr>\n",
       "      <th>13</th>\n",
       "      <td>Female Literacy Rate (%)</td>\n",
       "      <td>53.7</td>\n",
       "      <td>65.46</td>\n",
       "    </tr>\n",
       "  </tbody>\n",
       "</table>\n",
       "</div>"
      ],
      "text/plain": [
       "                                   1      2      3\n",
       "9   Gender Empowerment Measure (GEM)  0.416  0.497\n",
       "10                                     2001   2011\n",
       "11                 Literacy Rate (%)   64.8  74.04\n",
       "12            Male Literacy Rate (%)   75.3  82.14\n",
       "13          Female Literacy Rate (%)   53.7  65.46"
      ]
     },
     "execution_count": 8,
     "metadata": {},
     "output_type": "execute_result"
    }
   ],
   "source": [
    "df = tables_DF[2].df.loc[9:14,1:3]\n",
    "df"
   ]
  },
  {
   "cell_type": "code",
   "execution_count": 9,
   "id": "a6e33ded",
   "metadata": {},
   "outputs": [
    {
     "data": {
      "text/html": [
       "<div>\n",
       "<style scoped>\n",
       "    .dataframe tbody tr th:only-of-type {\n",
       "        vertical-align: middle;\n",
       "    }\n",
       "\n",
       "    .dataframe tbody tr th {\n",
       "        vertical-align: top;\n",
       "    }\n",
       "\n",
       "    .dataframe thead th {\n",
       "        text-align: right;\n",
       "    }\n",
       "</style>\n",
       "<table border=\"1\" class=\"dataframe\">\n",
       "  <thead>\n",
       "    <tr style=\"text-align: right;\">\n",
       "      <th></th>\n",
       "      <th>1</th>\n",
       "      <th>2</th>\n",
       "      <th>3</th>\n",
       "    </tr>\n",
       "  </thead>\n",
       "  <tbody>\n",
       "    <tr>\n",
       "      <th>0</th>\n",
       "      <td>Gender Empowerment Measure (GEM)</td>\n",
       "      <td>0.416</td>\n",
       "      <td>0.497</td>\n",
       "    </tr>\n",
       "    <tr>\n",
       "      <th>1</th>\n",
       "      <td></td>\n",
       "      <td>2001</td>\n",
       "      <td>2011</td>\n",
       "    </tr>\n",
       "    <tr>\n",
       "      <th>2</th>\n",
       "      <td>Literacy Rate (%)</td>\n",
       "      <td>64.8</td>\n",
       "      <td>74.04</td>\n",
       "    </tr>\n",
       "    <tr>\n",
       "      <th>3</th>\n",
       "      <td>Male Literacy Rate (%)</td>\n",
       "      <td>75.3</td>\n",
       "      <td>82.14</td>\n",
       "    </tr>\n",
       "    <tr>\n",
       "      <th>4</th>\n",
       "      <td>Female Literacy Rate (%)</td>\n",
       "      <td>53.7</td>\n",
       "      <td>65.46</td>\n",
       "    </tr>\n",
       "  </tbody>\n",
       "</table>\n",
       "</div>"
      ],
      "text/plain": [
       "                                  1      2      3\n",
       "0  Gender Empowerment Measure (GEM)  0.416  0.497\n",
       "1                                     2001   2011\n",
       "2                 Literacy Rate (%)   64.8  74.04\n",
       "3            Male Literacy Rate (%)   75.3  82.14\n",
       "4          Female Literacy Rate (%)   53.7  65.46"
      ]
     },
     "execution_count": 9,
     "metadata": {},
     "output_type": "execute_result"
    }
   ],
   "source": [
    "df = df.reset_index(drop = True)\n",
    "df"
   ]
  },
  {
   "cell_type": "code",
   "execution_count": 10,
   "id": "f37d512a",
   "metadata": {},
   "outputs": [
    {
     "data": {
      "text/html": [
       "<div>\n",
       "<style scoped>\n",
       "    .dataframe tbody tr th:only-of-type {\n",
       "        vertical-align: middle;\n",
       "    }\n",
       "\n",
       "    .dataframe tbody tr th {\n",
       "        vertical-align: top;\n",
       "    }\n",
       "\n",
       "    .dataframe thead th {\n",
       "        text-align: right;\n",
       "    }\n",
       "</style>\n",
       "<table border=\"1\" class=\"dataframe\">\n",
       "  <thead>\n",
       "    <tr style=\"text-align: right;\">\n",
       "      <th></th>\n",
       "      <th>KPI</th>\n",
       "      <th>2001</th>\n",
       "      <th>2011</th>\n",
       "    </tr>\n",
       "  </thead>\n",
       "  <tbody>\n",
       "    <tr>\n",
       "      <th>0</th>\n",
       "      <td>Gender Empowerment Measure (GEM)</td>\n",
       "      <td>0.416</td>\n",
       "      <td>0.497</td>\n",
       "    </tr>\n",
       "    <tr>\n",
       "      <th>1</th>\n",
       "      <td></td>\n",
       "      <td>2001</td>\n",
       "      <td>2011</td>\n",
       "    </tr>\n",
       "    <tr>\n",
       "      <th>2</th>\n",
       "      <td>Literacy Rate (%)</td>\n",
       "      <td>64.8</td>\n",
       "      <td>74.04</td>\n",
       "    </tr>\n",
       "    <tr>\n",
       "      <th>3</th>\n",
       "      <td>Male Literacy Rate (%)</td>\n",
       "      <td>75.3</td>\n",
       "      <td>82.14</td>\n",
       "    </tr>\n",
       "    <tr>\n",
       "      <th>4</th>\n",
       "      <td>Female Literacy Rate (%)</td>\n",
       "      <td>53.7</td>\n",
       "      <td>65.46</td>\n",
       "    </tr>\n",
       "  </tbody>\n",
       "</table>\n",
       "</div>"
      ],
      "text/plain": [
       "                                KPI   2001   2011\n",
       "0  Gender Empowerment Measure (GEM)  0.416  0.497\n",
       "1                                     2001   2011\n",
       "2                 Literacy Rate (%)   64.8  74.04\n",
       "3            Male Literacy Rate (%)   75.3  82.14\n",
       "4          Female Literacy Rate (%)   53.7  65.46"
      ]
     },
     "execution_count": 10,
     "metadata": {},
     "output_type": "execute_result"
    }
   ],
   "source": [
    "df.columns = [\"KPI\",\"2001\",\"2011\"]\n",
    "df"
   ]
  },
  {
   "cell_type": "code",
   "execution_count": 11,
   "id": "7a6de0e7",
   "metadata": {},
   "outputs": [],
   "source": [
    "df.loc[:,[\"2001\",\"2011\"]] = df.loc[:,[\"2001\",\"2011\"]].astype(float)\n"
   ]
  },
  {
   "cell_type": "code",
   "execution_count": 12,
   "id": "08fbd26d",
   "metadata": {},
   "outputs": [
    {
     "data": {
      "text/html": [
       "<div>\n",
       "<style scoped>\n",
       "    .dataframe tbody tr th:only-of-type {\n",
       "        vertical-align: middle;\n",
       "    }\n",
       "\n",
       "    .dataframe tbody tr th {\n",
       "        vertical-align: top;\n",
       "    }\n",
       "\n",
       "    .dataframe thead th {\n",
       "        text-align: right;\n",
       "    }\n",
       "</style>\n",
       "<table border=\"1\" class=\"dataframe\">\n",
       "  <thead>\n",
       "    <tr style=\"text-align: right;\">\n",
       "      <th></th>\n",
       "      <th>KPI</th>\n",
       "      <th>2001</th>\n",
       "      <th>2011</th>\n",
       "    </tr>\n",
       "  </thead>\n",
       "  <tbody>\n",
       "    <tr>\n",
       "      <th>0</th>\n",
       "      <td>Gender Empowerment Measure (GEM)</td>\n",
       "      <td>0.416</td>\n",
       "      <td>0.497</td>\n",
       "    </tr>\n",
       "    <tr>\n",
       "      <th>1</th>\n",
       "      <td></td>\n",
       "      <td>2001.0</td>\n",
       "      <td>2011.0</td>\n",
       "    </tr>\n",
       "    <tr>\n",
       "      <th>2</th>\n",
       "      <td>Literacy Rate (%)</td>\n",
       "      <td>64.8</td>\n",
       "      <td>74.04</td>\n",
       "    </tr>\n",
       "    <tr>\n",
       "      <th>3</th>\n",
       "      <td>Male Literacy Rate (%)</td>\n",
       "      <td>75.3</td>\n",
       "      <td>82.14</td>\n",
       "    </tr>\n",
       "    <tr>\n",
       "      <th>4</th>\n",
       "      <td>Female Literacy Rate (%)</td>\n",
       "      <td>53.7</td>\n",
       "      <td>65.46</td>\n",
       "    </tr>\n",
       "  </tbody>\n",
       "</table>\n",
       "</div>"
      ],
      "text/plain": [
       "                                KPI    2001    2011\n",
       "0  Gender Empowerment Measure (GEM)   0.416   0.497\n",
       "1                                    2001.0  2011.0\n",
       "2                 Literacy Rate (%)    64.8   74.04\n",
       "3            Male Literacy Rate (%)    75.3   82.14\n",
       "4          Female Literacy Rate (%)    53.7   65.46"
      ]
     },
     "execution_count": 12,
     "metadata": {},
     "output_type": "execute_result"
    }
   ],
   "source": [
    "df"
   ]
  },
  {
   "cell_type": "markdown",
   "id": "bda755d7",
   "metadata": {},
   "source": [
    "### Converting data into comma seperated value(csv) format"
   ]
  },
  {
   "cell_type": "code",
   "execution_count": 13,
   "id": "1fa1cc14",
   "metadata": {},
   "outputs": [
    {
     "data": {
      "text/html": [
       "<div>\n",
       "<style scoped>\n",
       "    .dataframe tbody tr th:only-of-type {\n",
       "        vertical-align: middle;\n",
       "    }\n",
       "\n",
       "    .dataframe tbody tr th {\n",
       "        vertical-align: top;\n",
       "    }\n",
       "\n",
       "    .dataframe thead th {\n",
       "        text-align: right;\n",
       "    }\n",
       "</style>\n",
       "<table border=\"1\" class=\"dataframe\">\n",
       "  <thead>\n",
       "    <tr style=\"text-align: right;\">\n",
       "      <th></th>\n",
       "      <th>KPI</th>\n",
       "      <th>2001</th>\n",
       "      <th>2011</th>\n",
       "    </tr>\n",
       "  </thead>\n",
       "  <tbody>\n",
       "    <tr>\n",
       "      <th>0</th>\n",
       "      <td>Gender Empowerment Measure (GEM)</td>\n",
       "      <td>0.416</td>\n",
       "      <td>0.497</td>\n",
       "    </tr>\n",
       "    <tr>\n",
       "      <th>1</th>\n",
       "      <td></td>\n",
       "      <td>2001.0</td>\n",
       "      <td>2011.0</td>\n",
       "    </tr>\n",
       "    <tr>\n",
       "      <th>2</th>\n",
       "      <td>Literacy Rate (%)</td>\n",
       "      <td>64.8</td>\n",
       "      <td>74.04</td>\n",
       "    </tr>\n",
       "    <tr>\n",
       "      <th>3</th>\n",
       "      <td>Male Literacy Rate (%)</td>\n",
       "      <td>75.3</td>\n",
       "      <td>82.14</td>\n",
       "    </tr>\n",
       "    <tr>\n",
       "      <th>4</th>\n",
       "      <td>Female Literacy Rate (%)</td>\n",
       "      <td>53.7</td>\n",
       "      <td>65.46</td>\n",
       "    </tr>\n",
       "  </tbody>\n",
       "</table>\n",
       "</div>"
      ],
      "text/plain": [
       "                                KPI    2001    2011\n",
       "0  Gender Empowerment Measure (GEM)   0.416   0.497\n",
       "1                                    2001.0  2011.0\n",
       "2                 Literacy Rate (%)    64.8   74.04\n",
       "3            Male Literacy Rate (%)    75.3   82.14\n",
       "4          Female Literacy Rate (%)    53.7   65.46"
      ]
     },
     "execution_count": 13,
     "metadata": {},
     "output_type": "execute_result"
    }
   ],
   "source": [
    "df.to_csv(\"tables_output.csv\")\n",
    "df"
   ]
  },
  {
   "cell_type": "code",
   "execution_count": 14,
   "id": "fdde68b5",
   "metadata": {},
   "outputs": [
    {
     "name": "stdout",
     "output_type": "stream",
     "text": [
      " Volume in drive D has no label.\n",
      " Volume Serial Number is B830-F5BF\n",
      "\n",
      " Directory of D:\\Python\\Email_Scraping\n",
      "\n",
      "10/02/2022  08:15 PM    <DIR>          .\n",
      "10/02/2022  08:15 PM    <DIR>          ..\n",
      "10/02/2022  05:29 PM    <DIR>          .idea\n",
      "10/02/2022  04:02 PM    <DIR>          .ipynb_checkpoints\n",
      "10/02/2022  08:15 PM            62,709 Extracting Table From PDF-UN HDI REPORT.ipynb\n",
      "10/02/2022  11:48 AM             2,293 HackerNews_Emailer_Scraping.py\n",
      "10/02/2022  02:35 PM        33,392,650 ILYAS_Automated_Video.mp4\n",
      "10/02/2022  03:04 PM        33,392,650 ILYAS_Custom_Video.mp4\n",
      "10/02/2022  04:05 PM           850,276 india_factsheet_economic_n_hdi.pdf\n",
      "09/30/2022  11:02 PM               656 main.py\n",
      "10/02/2022  04:05 PM             5,090 table_from_pdf.xlsx\n",
      "10/02/2022  07:03 PM             5,120 tables_from_pdf.xlsx\n",
      "10/02/2022  08:16 PM               190 tables_output.csv\n",
      "10/02/2022  07:27 PM             5,120 tables_output_excel.xlsx\n",
      "10/02/2022  03:14 PM             2,327 TED_TALK_Downloader.py\n",
      "10/02/2022  03:36 PM    <DIR>          venv\n",
      "              11 File(s)     67,719,081 bytes\n",
      "               5 Dir(s)  194,703,745,024 bytes free\n"
     ]
    }
   ],
   "source": [
    "ls"
   ]
  },
  {
   "cell_type": "code",
   "execution_count": 15,
   "id": "04c016b1",
   "metadata": {},
   "outputs": [
    {
     "data": {
      "text/html": [
       "<div>\n",
       "<style scoped>\n",
       "    .dataframe tbody tr th:only-of-type {\n",
       "        vertical-align: middle;\n",
       "    }\n",
       "\n",
       "    .dataframe tbody tr th {\n",
       "        vertical-align: top;\n",
       "    }\n",
       "\n",
       "    .dataframe thead th {\n",
       "        text-align: right;\n",
       "    }\n",
       "</style>\n",
       "<table border=\"1\" class=\"dataframe\">\n",
       "  <thead>\n",
       "    <tr style=\"text-align: right;\">\n",
       "      <th></th>\n",
       "      <th>Unnamed: 0</th>\n",
       "      <th>KPI</th>\n",
       "      <th>2001</th>\n",
       "      <th>2011</th>\n",
       "    </tr>\n",
       "  </thead>\n",
       "  <tbody>\n",
       "    <tr>\n",
       "      <th>0</th>\n",
       "      <td>0</td>\n",
       "      <td>Gender Empowerment Measure (GEM)</td>\n",
       "      <td>0.416</td>\n",
       "      <td>0.497</td>\n",
       "    </tr>\n",
       "    <tr>\n",
       "      <th>1</th>\n",
       "      <td>1</td>\n",
       "      <td>NaN</td>\n",
       "      <td>2001.000</td>\n",
       "      <td>2011.000</td>\n",
       "    </tr>\n",
       "    <tr>\n",
       "      <th>2</th>\n",
       "      <td>2</td>\n",
       "      <td>Literacy Rate (%)</td>\n",
       "      <td>64.800</td>\n",
       "      <td>74.040</td>\n",
       "    </tr>\n",
       "    <tr>\n",
       "      <th>3</th>\n",
       "      <td>3</td>\n",
       "      <td>Male Literacy Rate (%)</td>\n",
       "      <td>75.300</td>\n",
       "      <td>82.140</td>\n",
       "    </tr>\n",
       "    <tr>\n",
       "      <th>4</th>\n",
       "      <td>4</td>\n",
       "      <td>Female Literacy Rate (%)</td>\n",
       "      <td>53.700</td>\n",
       "      <td>65.460</td>\n",
       "    </tr>\n",
       "  </tbody>\n",
       "</table>\n",
       "</div>"
      ],
      "text/plain": [
       "   Unnamed: 0                               KPI      2001      2011\n",
       "0           0  Gender Empowerment Measure (GEM)     0.416     0.497\n",
       "1           1                               NaN  2001.000  2011.000\n",
       "2           2                 Literacy Rate (%)    64.800    74.040\n",
       "3           3            Male Literacy Rate (%)    75.300    82.140\n",
       "4           4          Female Literacy Rate (%)    53.700    65.460"
      ]
     },
     "execution_count": 15,
     "metadata": {},
     "output_type": "execute_result"
    }
   ],
   "source": [
    "import pandas as pd\n",
    "df1 = pd.read_csv(\"tables_output.csv\")\n",
    "df1"
   ]
  },
  {
   "cell_type": "markdown",
   "id": "fefb6f20",
   "metadata": {},
   "source": [
    "## Creating Excel File and Visualizing the data set"
   ]
  },
  {
   "cell_type": "code",
   "execution_count": 33,
   "id": "cd84c6a4",
   "metadata": {},
   "outputs": [],
   "source": [
    "df.to_excel(\"tables_from_pdf.xlsx\")"
   ]
  },
  {
   "cell_type": "code",
   "execution_count": 31,
   "id": "a2ec08f3",
   "metadata": {},
   "outputs": [
    {
     "data": {
      "text/html": [
       "<div>\n",
       "<style scoped>\n",
       "    .dataframe tbody tr th:only-of-type {\n",
       "        vertical-align: middle;\n",
       "    }\n",
       "\n",
       "    .dataframe tbody tr th {\n",
       "        vertical-align: top;\n",
       "    }\n",
       "\n",
       "    .dataframe thead th {\n",
       "        text-align: right;\n",
       "    }\n",
       "</style>\n",
       "<table border=\"1\" class=\"dataframe\">\n",
       "  <thead>\n",
       "    <tr style=\"text-align: right;\">\n",
       "      <th></th>\n",
       "      <th>KPI</th>\n",
       "      <th>year</th>\n",
       "      <th>percentage</th>\n",
       "    </tr>\n",
       "  </thead>\n",
       "  <tbody>\n",
       "    <tr>\n",
       "      <th>0</th>\n",
       "      <td>Gender Empowerment Measure (GEM)</td>\n",
       "      <td>2001</td>\n",
       "      <td>0.416</td>\n",
       "    </tr>\n",
       "    <tr>\n",
       "      <th>1</th>\n",
       "      <td></td>\n",
       "      <td>2001</td>\n",
       "      <td>2001.0</td>\n",
       "    </tr>\n",
       "    <tr>\n",
       "      <th>2</th>\n",
       "      <td>Literacy Rate (%)</td>\n",
       "      <td>2001</td>\n",
       "      <td>64.8</td>\n",
       "    </tr>\n",
       "    <tr>\n",
       "      <th>3</th>\n",
       "      <td>Male Literacy Rate (%)</td>\n",
       "      <td>2001</td>\n",
       "      <td>75.3</td>\n",
       "    </tr>\n",
       "    <tr>\n",
       "      <th>4</th>\n",
       "      <td>Female Literacy Rate (%)</td>\n",
       "      <td>2001</td>\n",
       "      <td>53.7</td>\n",
       "    </tr>\n",
       "    <tr>\n",
       "      <th>5</th>\n",
       "      <td>Gender Empowerment Measure (GEM)</td>\n",
       "      <td>2011</td>\n",
       "      <td>0.497</td>\n",
       "    </tr>\n",
       "    <tr>\n",
       "      <th>6</th>\n",
       "      <td></td>\n",
       "      <td>2011</td>\n",
       "      <td>2011.0</td>\n",
       "    </tr>\n",
       "    <tr>\n",
       "      <th>7</th>\n",
       "      <td>Literacy Rate (%)</td>\n",
       "      <td>2011</td>\n",
       "      <td>74.04</td>\n",
       "    </tr>\n",
       "    <tr>\n",
       "      <th>8</th>\n",
       "      <td>Male Literacy Rate (%)</td>\n",
       "      <td>2011</td>\n",
       "      <td>82.14</td>\n",
       "    </tr>\n",
       "    <tr>\n",
       "      <th>9</th>\n",
       "      <td>Female Literacy Rate (%)</td>\n",
       "      <td>2011</td>\n",
       "      <td>65.46</td>\n",
       "    </tr>\n",
       "  </tbody>\n",
       "</table>\n",
       "</div>"
      ],
      "text/plain": [
       "                                KPI  year percentage\n",
       "0  Gender Empowerment Measure (GEM)  2001      0.416\n",
       "1                                    2001     2001.0\n",
       "2                 Literacy Rate (%)  2001       64.8\n",
       "3            Male Literacy Rate (%)  2001       75.3\n",
       "4          Female Literacy Rate (%)  2001       53.7\n",
       "5  Gender Empowerment Measure (GEM)  2011      0.497\n",
       "6                                    2011     2011.0\n",
       "7                 Literacy Rate (%)  2011      74.04\n",
       "8            Male Literacy Rate (%)  2011      82.14\n",
       "9          Female Literacy Rate (%)  2011      65.46"
      ]
     },
     "execution_count": 31,
     "metadata": {},
     "output_type": "execute_result"
    }
   ],
   "source": [
    "df_melted = df.melt('KPI', var_name='year', value_name='percentage')\n",
    "df_melted"
   ]
  },
  {
   "cell_type": "code",
   "execution_count": 35,
   "id": "846d500c",
   "metadata": {},
   "outputs": [
    {
     "data": {
      "image/png": "[encoded data removed]",
      "text/plain": [
       "<Figure size 1000x600 with 1 Axes>"
      ]
     },
     "metadata": {},
     "output_type": "display_data"
    }
   ],
   "source": [
    "plt.figure(figsize=(10,6))\n",
    "sns.lineplot(x = \"KPI\", y = \"percentage\", hue = \"year\", data = df_melted);"
   ]
  },
  {
   "cell_type": "code",
   "execution_count": null,
   "id": "609b577f",
   "metadata": {},
   "outputs": [],
   "source": []
  }
 ],
 "metadata": {
  "kernelspec": {
   "display_name": "Python 3 (ipykernel)",
   "language": "python",
   "name": "python3"
  },
  "language_info": {
   "codemirror_mode": {
    "name": "ipython",
    "version": 3
   },
   "file_extension": ".py",
   "mimetype": "text/x-python",
   "name": "python",
   "nbconvert_exporter": "python",
   "pygments_lexer": "ipython3",
   "version": "3.10.6"
  }
 },
 "nbformat": 4,
 "nbformat_minor": 5
}
